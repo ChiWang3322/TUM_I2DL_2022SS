{
 "cells": [
  {
   "cell_type": "markdown",
   "metadata": {
    "id": "g6vUCiE_N5eU"
   },
   "source": [
    "# Cifar10 Classification"
   ]
  },
  {
   "cell_type": "markdown",
   "metadata": {
    "id": "X9ridWdTN5eY"
   },
   "source": [
    "Until now, we have implemented several pieces of a deep learning pipeline and trained a two-layer neural network, but all hyperparameters were pre-set to values yielding resonable results. However, in real problems a large part of the work will be geared towards finding the best hyperparameter settings for a certain problem. In this notebook we will explore some good practices for network debugging and hyperparameters search, as well as extending our binary classification neural network to a multi-class one.\n",
    "\n",
    "Let's go!"
   ]
  },
  {
   "cell_type": "markdown",
   "metadata": {
    "id": "4sTNILP7OCzb"
   },
   "source": [
    "## (Optional) Mount folder in Colab\n",
    "\n",
    "Uncomment the following cell to mount your gdrive if you are using the notebook in google colab:"
   ]
  },
  {
   "cell_type": "code",
   "execution_count": 1,
   "metadata": {
    "colab": {
     "base_uri": "https://localhost:8080/"
    },
    "executionInfo": {
     "elapsed": 35664,
     "status": "ok",
     "timestamp": 1650011700447,
     "user": {
      "displayName": "Weber Anna",
      "userId": "18154618360144454414"
     },
     "user_tz": -120
    },
    "id": "PoG-5okpOPht",
    "outputId": "a670ffa3-ee59-4ef5-e323-3f3fec373486"
   },
   "outputs": [
    {
     "data": {
      "text/plain": [
       "'\"\"\\nfrom google.colab import drive\\nimport os\\n\\ngdrive_path=\\'/content/gdrive/MyDrive/i2dl/exercise_06\\'\\n\\n# This will mount your google drive under \\'MyDrive\\'\\ndrive.mount(\\'/content/gdrive\\', force_remount=True)\\n# In order to access the files in this notebook we have to navigate to the correct folder\\nos.chdir(gdrive_path)\\n# Check manually if all files are present\\nprint(sorted(os.listdir()))\\n'"
      ]
     },
     "execution_count": 1,
     "metadata": {},
     "output_type": "execute_result"
    }
   ],
   "source": [
    "\"\"\"\"\"\n",
    "from google.colab import drive\n",
    "import os\n",
    "\n",
    "gdrive_path='/content/gdrive/MyDrive/i2dl/exercise_06'\n",
    "\n",
    "# This will mount your google drive under 'MyDrive'\n",
    "drive.mount('/content/gdrive', force_remount=True)\n",
    "# In order to access the files in this notebook we have to navigate to the correct folder\n",
    "os.chdir(gdrive_path)\n",
    "# Check manually if all files are present\n",
    "print(sorted(os.listdir()))\n",
    "\"\"\"\"\""
   ]
  },
  {
   "cell_type": "code",
   "execution_count": 2,
   "metadata": {
    "id": "JZmN1ATIN5eY"
   },
   "outputs": [],
   "source": [
    "# Some lengthy setup.\n",
    "import matplotlib.pyplot as plt\n",
    "import numpy as np\n",
    "import os\n",
    "import urllib.request\n",
    "\n",
    "from exercise_code.networks.layer import (\n",
    "    Sigmoid, \n",
    "    Relu, \n",
    "    LeakyRelu, \n",
    "    Tanh,\n",
    ")\n",
    "from exercise_code.data import (\n",
    "    DataLoader,\n",
    "    ImageFolderDataset,\n",
    "    MemoryImageFolderDataset,\n",
    "    RescaleTransform,\n",
    "    NormalizeTransform,\n",
    "    FlattenTransform,\n",
    "    ComposeTransform,\n",
    ")\n",
    "from exercise_code.data.image_folder_dataset import RandomHorizontalFlip\n",
    "from exercise_code.networks import (\n",
    "    ClassificationNet,\n",
    "    BCE,\n",
    "    CrossEntropyFromLogits\n",
    ")\n",
    "\n",
    "%load_ext autoreload\n",
    "%autoreload 2\n",
    "%matplotlib inline\n",
    "\n",
    "plt.rcParams['figure.figsize'] = (10.0, 8.0) # set default size of plots\n",
    "plt.rcParams['image.interpolation'] = 'nearest'\n",
    "plt.rcParams['image.cmap'] = 'gray'"
   ]
  },
  {
   "cell_type": "markdown",
   "metadata": {
    "id": "tRdaBwnMN5ea"
   },
   "source": [
    "# 1. Quick recap (and some new things)"
   ]
  },
  {
   "cell_type": "markdown",
   "metadata": {
    "id": "zsNrBTkyN5eb"
   },
   "source": [
    "Until now, in the previous exercises, we focused on building and understanding all the necessary modules for training a simple model. We followed the Pytorch implementations closely, as this is the framework we will use later and we wanted you to have a smoother transition to its APIs. \n",
    "\n",
    "In the figure below you can see the main components in Pytorch. Let's start with a quick recap of **our implementation** of these components. \n",
    "\n",
    "<div class=\"alert alert-success\">\n",
    "    <h3>Task: Check Code</h3>\n",
    "    <p>Everything is already implemented for this part, but we <b>strongly</b> encourage you to check  the respective source files in order to have a better understanding. </p>\n",
    "</div>"
   ]
  },
  {
   "cell_type": "markdown",
   "metadata": {
    "id": "reTr9-VRN5ec"
   },
   "source": [
    "<img src=\"https://cdn-images-1.medium.com/max/800/1*uZrS4KjAuSJQIJPgOiaJUg.png\" style=\"width: 500px;\">"
   ]
  },
  {
   "cell_type": "markdown",
   "metadata": {
    "id": "4fZoL6hvN5ec"
   },
   "source": [
    "## 1.1 Dataset and Dataloader"
   ]
  },
  {
   "cell_type": "markdown",
   "metadata": {
    "id": "jvv1QqmJN5ed"
   },
   "source": [
    "Data preparation is an important part of deep learning projects. Because the data can come in different formats and from different sources, it must be prepared in a certain way, which depends on the application. One part, however, is uniform: since an entire dataset is usually too large to handle at once, we train our models on smaller batches of data. \n",
    "\n",
    "The goal of the ```Dataset``` class is to encapsulate all the 'dirty' data processing: loading and cleaning the data, storing features (or names of files where features can be found) and labels, as well as providing the means for accessing individual (transformed) items of the data using the ```__getitem__()``` function and an index. You already implemented an ```ImageFolderDataset``` (in ```exercise_code/data/image_folder_dataset.py```) class in Exercise 3. We we will reuse this class here.\n",
    "\n",
    "For processing the data, you implemented several transforms in Exercise 3 (```RescaleTransform```, ```NormalizeTransform```, ```ComposeTransform```). In this exercise we are working with images, which are multidimensional arrays, but we are using a simple feedforward neural network which takes an one dimensional array as an input, so it is necessary to reshape the images before feeding them into the model. \n",
    "\n",
    "<div class=\"alert alert-success\">\n",
    "    <h3>Task: Check Code</h3>\n",
    "    <p>Please check the implementation of the reshape operation in the <code>FlattenTransform</code> class, which can be found in <code>../exercise_06/exercise_code/data/image_folder_dataset.py</code>. </p>\n",
    "</div>"
   ]
  },
  {
   "cell_type": "code",
   "execution_count": 3,
   "metadata": {},
   "outputs": [],
   "source": [
    "download_url = \"https://i2dl.dvl.in.tum.de/downloads/cifar10.zip\"\n",
    "i2dl_exercises_path = os.path.dirname(os.path.abspath(os.getcwd()))\n",
    "cifar_root = os.path.join(i2dl_exercises_path, \"datasets\", \"cifar10\")"
   ]
  },
  {
   "cell_type": "markdown",
   "metadata": {},
   "source": [
    "## The usual memory vs local data warning\n",
    "If you are using google colab or store your files on a local HDD, iterating over dataset takes quite some time and blablabla. You know the drill by now ;).\n",
    "\n",
    "<div class=\"alert alert-danger\">\n",
    "    <h3>Warning</h3>\n",
    "    <p>Loading the whole dataset into memory will not work if you are using a machine with 4GB of RAM or less (depending on your other programs such as memory hungry web browsers). Consider closing some open programs or simply use the local on-demand ImageFolderDataset.</p>\n",
    "    <p>In addition we want to warn you that everytime you execute a cell like \"dataset2 = MemoryImageFolderDataset...\" you are loading a 1.2GB matrix into your memory. If you do this often enough this notebook will crash on every machine. Therefore, we make sure to always use a single variable \"dataset\" which will be overwritten by future cells to avoid straining your memory too much.</p>\n",
    "</div>"
   ]
  },
  {
   "cell_type": "code",
   "execution_count": 4,
   "metadata": {},
   "outputs": [],
   "source": [
    "# Choose your preferred dataset here\n",
    "\n",
    "DATASET = ImageFolderDataset\n",
    "#DATASET = MemoryImageFolderDataset"
   ]
  },
  {
   "cell_type": "markdown",
   "metadata": {},
   "source": [
    "Now that that is taken care of, back to the actual loading."
   ]
  },
  {
   "cell_type": "code",
   "execution_count": 5,
   "metadata": {
    "id": "2fHY8xTPN5ee"
   },
   "outputs": [],
   "source": [
    "# Use the Cifar10 mean and standard deviation computed in Exercise 3.\n",
    "cifar_mean = np.array([0.49191375, 0.48235852, 0.44673872])\n",
    "cifar_std  = np.array([0.24706447, 0.24346213, 0.26147554])\n",
    "\n",
    "# Define all the transforms we will apply on the images when \n",
    "# retrieving them.\n",
    "rescale_transform = RescaleTransform()\n",
    "normalize_transform = NormalizeTransform(\n",
    "    mean=cifar_mean,\n",
    "    std=cifar_std\n",
    ")\n",
    "flatten_transform = FlattenTransform()\n",
    "compose_transform = ComposeTransform([rescale_transform, \n",
    "                                      normalize_transform,\n",
    "                                      flatten_transform])\n",
    "\n",
    "# Create a train, validation and test dataset.\n",
    "datasets = {}\n",
    "for mode in ['train', 'val', 'test']:\n",
    "    crt_dataset = DATASET(\n",
    "        mode=mode,\n",
    "        root=cifar_root, \n",
    "        transform=compose_transform,\n",
    "        split={'train': 0.6, 'val': 0.2, 'test': 0.2}\n",
    "    )\n",
    "    datasets[mode] = crt_dataset"
   ]
  },
  {
   "cell_type": "markdown",
   "metadata": {
    "id": "FsR4dM2kN5ee"
   },
   "source": [
    "Then, based on this ```Dataset``` object, we can construct a ```Dataloader``` object which samples a random mini-batch of data at once. "
   ]
  },
  {
   "cell_type": "code",
   "execution_count": 6,
   "metadata": {
    "id": "3t4Xj_n3N5ef"
   },
   "outputs": [],
   "source": [
    "# Create a dataloader for each split.\n",
    "dataloaders = {}\n",
    "for mode in ['train', 'val', 'test']:\n",
    "    crt_dataloader = DataLoader(\n",
    "        dataset=datasets[mode],\n",
    "        batch_size=256,\n",
    "        shuffle=True,\n",
    "        drop_last=True,\n",
    "    )\n",
    "    dataloaders[mode] = crt_dataloader"
   ]
  },
  {
   "cell_type": "markdown",
   "metadata": {
    "id": "CpruSFLkN5ef"
   },
   "source": [
    "Because the ```Dataloader``` has the ```__iter__()``` method, we can simply iterate through the batches it produces, like this:\n",
    "\n",
    "```python\n",
    "for batch in dataloader['train']:\n",
    "    do_something(batch)\n",
    "```"
   ]
  },
  {
   "cell_type": "markdown",
   "metadata": {
    "id": "L81EGyslN5eg"
   },
   "source": [
    "## 1.2 Data Augmentation\n",
    "\n",
    "After the preprocessing steps, our data is in a good shape and ready to be fed into our network. As explained in the chapter above, we used the transformation functions `RescaleTransform`, `NormalizeTransform` and `FlattenTransform` to achieve this shape. These are the general steps that you need to perform on the data before you can start training. Of course, all these steps have to be applied to our three dataset splits (train, val and test split). In other words, preprocessing involves preparing the data before is can be used for training and inference. \n",
    "\n",
    "Besides these basic transformations, there are many other transformation methods that you can apply to the images. For example, you can <b>flip the images horizontally</b> or <b>blur the images</b> and use these new images to enlarge the dataset. This idea is called Data Augmentation and it involves methods that alter the training images to generate a synthetic dataset that is larger than your original dataset. This will hopefully improve the performance of your model. There is one important difference between data augmentation and data preprocessing: The transformation methods used to enlarge your dataset should only be applied to the training data. The validation and test data should not be affected by these methods.\n",
    "\n",
    "<div class=\"alert alert-success\">\n",
    "    <h3>Task: Check Code</h3>\n",
    "    <p>The choice of transformation methods for data augmentation can be seen as a hyperparameter of your model. You can try to include these to enlarge your training data and obtain better results for your model. In <code>exercise_code/data/image_folder_dataset.py</code> we implemented the function <code>RandomHorizontalFlip</code> for you, which is randomly flipping an image. Check out the implementation.</p>\n",
    "    <p> Later, we will perform hyperparameter tuning. In order to improve your model's performance, you can include some other data augmentation methods. Feel free to play around and to implement other methods as for example Gaussian Blur or Rotation. </p>       \n",
    "</div>\n",
    "\n",
    "Let us quickly check the `RandomHorizontalFlip` method with an image of the Cifar10 dataset in the following cell."
   ]
  },
  {
   "cell_type": "code",
   "execution_count": 7,
   "metadata": {
    "colab": {
     "base_uri": "https://localhost:8080/",
     "height": 98
    },
    "executionInfo": {
     "elapsed": 962,
     "status": "ok",
     "timestamp": 1650011739465,
     "user": {
      "displayName": "Weber Anna",
      "userId": "18154618360144454414"
     },
     "user_tz": -120
    },
    "id": "3BEjmTGHN5eg",
    "outputId": "a6adee5b-1dd4-436c-e811-952f4ae12e5f"
   },
   "outputs": [
    {
     "data": {
      "image/png": "[encoded data removed]",
      "text/plain": [
       "<Figure size 144x144 with 2 Axes>"
      ]
     },
     "metadata": {
      "needs_background": "light"
     },
     "output_type": "display_data"
    }
   ],
   "source": [
    "#Load the data in a dataset without any transformation \n",
    "dataset = DATASET(\n",
    "        mode=mode,\n",
    "        root=cifar_root, \n",
    "        download_url=download_url,\n",
    "        split={'train': 0.6, 'val': 0.2, 'test': 0.2},\n",
    "    )\n",
    "\n",
    "#Retrieve an image from the dataset and flip it\n",
    "image = dataset[1]['image']\n",
    "transform = RandomHorizontalFlip(1)\n",
    "image_flipped = transform(image)\n",
    "\n",
    "#Show the two images\n",
    "plt.figure(figsize = (2,2))\n",
    "plt.subplot(1, 2, 1)\n",
    "plt.imshow(image.astype('uint8'))\n",
    "plt.axis('off')\n",
    "plt.subplot(1, 2, 2)\n",
    "plt.imshow(image_flipped.astype('uint8'))\n",
    "plt.axis('off')\n",
    "plt.title(\"Left: Original Image, Right: Flipped image\")\n",
    "plt.show()"
   ]
  },
  {
   "cell_type": "markdown",
   "metadata": {
    "id": "WKNRU4BWN5eg"
   },
   "source": [
    "## 1.3 Layers\n",
    "\n",
    "Now, that the data is prepared, we can take a look at the model we are using. In our case it will be a neural network. \n",
    "\n",
    "In Exercise 5, you implemented a simple 2-layer neural network that had a hidden size as a parameter:\n",
    "\n",
    "$$ \n",
    "{\\hat{y}} = \\sigma(\\sigma({x W_1} + {b_1}) {W_2} + {b_2}) \n",
    "$$\n",
    "\n",
    "where $ \\sigma({x}) $ was the sigmoid function, $ {x} $ was the input, $ {W_1}, {W_2} $ the weight matrices and $ {b_1}, {b_2}$ the biases for the two layers.\n",
    "\n",
    "This is how we used this network:"
   ]
  },
  {
   "cell_type": "code",
   "execution_count": 8,
   "metadata": {
    "id": "6zta7tzkN5eg"
   },
   "outputs": [
    {
     "data": {
      "text/plain": [
       "3072"
      ]
     },
     "execution_count": 8,
     "metadata": {},
     "output_type": "execute_result"
    }
   ],
   "source": [
    "input_size = datasets['train'][0]['image'].shape[0]\n",
    "model = ClassificationNet(input_size=input_size, \n",
    "                          hidden_size=512)\n",
    "input_size"
   ]
  },
  {
   "cell_type": "markdown",
   "metadata": {
    "id": "UpAoXE7nN5eh"
   },
   "source": [
    "Note that we updated the ```ClassificationNet``` from the previous exercise. Now you can customize the number of outputs, the choice of activation function, the hidden size etc. We encourage you to check the implementation in ```exercise_code/networks/classification_net.py``` "
   ]
  },
  {
   "cell_type": "code",
   "execution_count": 9,
   "metadata": {
    "id": "7wzEaw66N5eh"
   },
   "outputs": [],
   "source": [
    "num_layer = 2\n",
    "reg = 0.1\n",
    "\n",
    "model = ClassificationNet(activation=Sigmoid(), \n",
    "                          num_layer=num_layer, \n",
    "                          reg=reg,\n",
    "                          num_classes=10)"
   ]
  },
  {
   "cell_type": "markdown",
   "metadata": {
    "id": "x70gjgkDN5eh"
   },
   "source": [
    "Performing the forward and backward passes through the model was quite simple:\n",
    "\n",
    "```python\n",
    "\n",
    "# X is a batch of training features \n",
    "# X.shape = (batch_size, features_size)\n",
    "y_out = model.forward(X)\n",
    "\n",
    "# dout is the gradient of the loss function w.r.t the output of the network.\n",
    "# dout.shape = (batch_size, )\n",
    "model.backward(dout)\n",
    "```"
   ]
  },
  {
   "cell_type": "markdown",
   "metadata": {
    "id": "dlwNcT2RN5eh"
   },
   "source": [
    "Just as the learning rate or the number of epochs we want to train for, the number of hidden layers and the number of units in each hidden layer are also hyperparameters that we can tune. In this notebook you can play with networks of different sizes to see the impact that the network capacity has.\n",
    "\n",
    "Before we move on to the loss functions, let's have a look at the activation functions. The choice of an activation function can have a huge impact on the performance of the network you are designing. So far, you have implemented the `Sigmoid` and the `Relu` activation functions in Exercise 5. \n",
    "\n",
    "<div class=\"alert alert-success\">\n",
    "    <h3>Task: Check Code</h3>\n",
    "    <p>Take a look at the <code>Sigmoid</code> and the <code>Relu</code> class in <code>exercise_code/networks/layer.py</code> and the implementation of the respective forward and backward passes. Make sure to understand why we used <b>element-wise product</b> instead of dot product in the backward pass of the <code>Sigmoid</code> class to compute the gradient $dx$. That will be helpful for your later implementation of other activation functions.</p>\n",
    "    <p> <b>Note:</b> The <code>cache</code> variable is used to store information from the forward pass and then pass this information in the backward pass to make use of it there. The implementation of both classes shows that this variable can be used differently - depending on which information is needed in the backward pass. </p>\n",
    "</div>\n",
    "\n",
    "Now, we want to have a look at two other, very common activation functions that you have already seen in the lecture: Leaky ReLU activation function and Tanh activation function. \n",
    "\n",
    "**Leaky Relus** are one attempt to fix the “dying ReLU” problem. Instead of the function being zero when $x<0$, a leaky ReLU has a small negative slope (for example, 0.01).  The function computes $f(x) = \\mathbb{1}(x < 0) (\\alpha x) + \\mathbb{1}(x>=0) (x)$ where $\\alpha$ is a small constant. Some people report success with this form of activation function, but the results are not always consistent.\n",
    "\n",
    "The **tanh non-linearity** squashes a real-valued number into the range [-1, 1]. Like the sigmoid neuron, its activations saturate, but unlike the sigmoid neuron its output is zero-centered. Therefore, in practice the tanh non-linearity is always preferred to the sigmoid non-linearity. Also note that the tanh neuron is simply a scaled sigmoid neuron, in particular the following holds: $\\tanh(x) = 2 \\cdot \\sigma(2x) -1$.\n",
    "\n",
    "<img class=left src=https://pytorch.org/docs/stable/_images/LeakyReLU.png alt=\"Figure3\" width=\"350\" align='left'/> \n",
    "<img class=right src=https://pytorch.org/docs/stable/_images/Tanh.png alt=\"Figure4\" width=\"350\"/>\n",
    "\n",
    "<div class=\"alert alert-info\">\n",
    "    <h3>Task: Implement Activation Layers</h3>\n",
    "    <p> Now, it is your turn to implement the <code>LeakyRelu</code> and the <code>Tanh</code> class in <code>exercise_code/networks/layer.py</code> by completing the <code>forward</code> and the <code>backward</code> functions. You can test your implementation in the following two cells. </p>\n",
    "    <p> <b>Note:</b> Always remember to return a cache in <code>forward</code> for later backpropagation in <code>backward</code>. As we have seen above, the <code>cache</code> variable can be used differently for two activation functions.</p>\n",
    "</div>\n",
    "\n",
    "Use this cell to test your implementation of the `LeakyRelu` class:"
   ]
  },
  {
   "cell_type": "code",
   "execution_count": 10,
   "metadata": {
    "colab": {
     "base_uri": "https://localhost:8080/"
    },
    "executionInfo": {
     "elapsed": 854,
     "status": "ok",
     "timestamp": 1650011740634,
     "user": {
      "displayName": "Weber Anna",
      "userId": "18154618360144454414"
     },
     "user_tz": -120
    },
    "id": "v0LYvwHmN5ei",
    "outputId": "e124210f-f387-45b4-cd23-b0444c894b10"
   },
   "outputs": [
    {
     "name": "stdout",
     "output_type": "stream",
     "text": [
      "LeakyReluForwardTest passed.\n",
      "LeakyReluBackwardTest passed.\n",
      "Congratulations you have passed all the unit tests!!! Tests passed: 2/2\n",
      "Score: 100/100\n",
      "You secured a score of :100\n"
     ]
    }
   ],
   "source": [
    "from exercise_code.tests.layer_tests import *\n",
    "print(LeakyReluTestWrapper()())"
   ]
  },
  {
   "cell_type": "markdown",
   "metadata": {
    "id": "kOkiYhe_N5ei"
   },
   "source": [
    "And this cell to test your implementation of the `Tanh` class:"
   ]
  },
  {
   "cell_type": "code",
   "execution_count": 11,
   "metadata": {
    "colab": {
     "base_uri": "https://localhost:8080/"
    },
    "executionInfo": {
     "elapsed": 11,
     "status": "ok",
     "timestamp": 1650011740635,
     "user": {
      "displayName": "Weber Anna",
      "userId": "18154618360144454414"
     },
     "user_tz": -120
    },
    "id": "Do-AHImrN5ei",
    "outputId": "b4c5a743-2ae6-4700-e052-4c9c4a220d08"
   },
   "outputs": [
    {
     "name": "stdout",
     "output_type": "stream",
     "text": [
      "TanhForwardTest passed.\n",
      "TanhBackwardTest passed.\n",
      "Congratulations you have passed all the unit tests!!! Tests passed: 2/2\n",
      "Score: 100/100\n",
      "You secured a score of :100\n"
     ]
    }
   ],
   "source": [
    "print(TanhTestWrapper()())"
   ]
  },
  {
   "cell_type": "markdown",
   "metadata": {
    "id": "Mw_iJW4dN5ej"
   },
   "source": [
    "Congratulations, you implemented four different activation functions! These activation layers are now ready to be used when you start building your own network."
   ]
  },
  {
   "cell_type": "markdown",
   "metadata": {
    "id": "3MhxqP2LN5ej"
   },
   "source": [
    "## 1.4 Loss\n",
    "\n",
    "In order to measure how well a network is performing, we implemented several ```Loss``` classes (```L1```, ```MSE```, ```BCE```, each preferred for a certain type of problems) in ```exercise_code/networks/loss.py```.\n",
    "\n",
    "Each contains a ```forward()``` method, which outputs a number we can use as a measure for our network's performance. \n",
    "\n",
    "Since our goal is to change the weights of the network in a way that this loss measure decreases, we are also interested in the gradients of the loss w.r.t the outputs of the network, $ \\nabla_{\\hat{y}} L({\\hat{y}}, {y}) $. This was implemented in ```backward()```. \n",
    "\n",
    "In previous exercises, we worked on binary classification problems and therefore used binary cross entropy (```BCE```) as a loss function.\n",
    "\n",
    "$$ BCE(\\hat{y}, y) = \\frac{1}{N} \\sum_{i=1}^N \\Big [-y_i \\log(\\hat{y_i}) - (1-y_i) \\log(1 - \\hat{y_i}) \\Big] $$ \n",
    "\n",
    "where\n",
    "- $ N $ was the number of samples we were considering\n",
    "- $\\hat{y}_i$ was the network's prediction for sample $i$. Note that this was a valid probability $\\in [0, 1]$, because we applied a [sigmoid](https://en.wikipedia.org/wiki/Sigmoid_function) activation on the last layer. \n",
    "- $ y_i $ was the ground truth label (0 or 1, depending on the class)\n",
    "\n",
    "Since we have 10 classes in the CIFAR10 dataset, we need a generalization of the binary cross entropy loss to multiple classes. This generalization is called the cross entropy loss and is defined as:\n",
    "$$ CE(\\hat{y}, y) = \\frac{1}{N} \\sum_{i=1}^N \\sum_{k=1}^{C} \\Big[ -y_{ik} \\log(\\hat{y}_{ik}) \\Big] $$\n",
    "\n",
    "where:\n",
    "- $ N $ is the number of samples\n",
    "- $ C $ is the number of classes\n",
    "- $ \\hat{y}_{ik} $ is the probability that the model assigns for the $k$th class when the $i$th sample is the input. **Because we don't apply any activation function on the last layer of our network, its outputs for each sample will not be a valid probability distribution over the classes. We call these the raw outputs of the network '[logits](https://datascience.stackexchange.com/questions/31041/what-does-logits-in-machine-learning-mean/31045)' and we will apply a [softmax](https://en.wikipedia.org/wiki/Softmax_function) activation in order to obtain a valid probability distribution.** \n",
    "- $y_{ik} = 1 $ iff the true label of the $i$th sample is $k$ and 0 otherwise. This is called a [one-hot encoding](https://machinelearningmastery.com/why-one-hot-encode-data-in-machine-learning/).\n",
    "\n",
    "You can check for yourself that if the number of classes $ C $ is 2, the binary cross entropy is actually equivalent to the cross entropy.\n",
    "\n",
    "<div class=\"alert alert-success\">\n",
    "    <h3>Task: Check Code</h3>\n",
    "    <p>Please check the implementation of the <code>CrossEntropyFromLogits</code> class, which can be found in <code>../exercise_06/exercise_code/networks/loss.py</code>. </p>\n",
    "</div>"
   ]
  },
  {
   "cell_type": "code",
   "execution_count": 12,
   "metadata": {
    "id": "EBPuFF0BN5ej"
   },
   "outputs": [],
   "source": [
    "loss = CrossEntropyFromLogits()"
   ]
  },
  {
   "cell_type": "markdown",
   "metadata": {
    "id": "y1HcQs25N5ek"
   },
   "source": [
    "We can simply get the results of the forward and backward passes as follows:"
   ]
  },
  {
   "cell_type": "markdown",
   "metadata": {
    "id": "Jv2aujOvN5ek"
   },
   "source": [
    "```python\n",
    "# y_out is the output of the neural network\n",
    "# y_truth is the actual label from the dataset\n",
    "loss.forward(y_out, y_truth)\n",
    "loss.backward(y_out, y_truth)\n",
    "```"
   ]
  },
  {
   "cell_type": "markdown",
   "metadata": {
    "id": "dbFSP4z9N5ek"
   },
   "source": [
    "## 1.5 Optimizer\n",
    "\n",
    "Now that we know the gradient of the loss w.r.t the ouputs of the network, as well as the local gradient for each layer of the network, we can use the chain rule to compute all gradients. \n",
    "\n",
    "<div class=\"alert alert-success\">\n",
    "    <h3>Task: Check Code</h3>\n",
    "    <p>We implemented several optimizer classes <code>SGD</code>, <code>Adam</code>, <code>sgd_momentum</code> that use different first-order parameter update rules. Those can be found in <code>../exercise_06/exercise_code/networks/optimizer.py</code>. </p>\n",
    "    <p>The <code>step()</code> method used, iterates through all the parameters of the model and updates them using the gradient information.</p>\n",
    "</div>\n",
    "\n",
    "What the optimizer is doing, in pseudocode, is the following:\n",
    "\n",
    "```python\n",
    "for param in model:\n",
    "    # Use the gradient to update the weights.\n",
    "    update(param)\n",
    "    \n",
    "    # Reset the gradient after each update.\n",
    "    param.gradient = 0\n",
    "```\n",
    "\n",
    "```SGD``` had the simplest update rule:\n",
    "```python\n",
    "def update(param):\n",
    "    param = param - learning_rate * param.gradient\n",
    "```\n",
    "\n",
    "For the more complicated update rules, see ```exercise_code/networks/optimizer.py```"
   ]
  },
  {
   "cell_type": "markdown",
   "metadata": {
    "id": "0TE2PxMBN5ek"
   },
   "source": [
    "## 1.6 Solver\n",
    "\n",
    "The ```Solver``` is where all the above elements come together: Given a train and a validation dataloader, a model, a loss and an optimizer, it uses the training data to optimize a model in order to get better predictions. We simply call ```train()``` and it does its 'magic' for us!\n",
    "```python\n",
    "solver = Solver(model, \n",
    "                dataloaders['train'], \n",
    "                dataloaders['val'], \n",
    "                learning_rate=0.001, \n",
    "                loss_func=MSE(), \n",
    "                optimizer=SGD)\n",
    "\n",
    "solver.train(epochs=epochs)\n",
    "```\n",
    "\n",
    "<div class=\"alert alert-success\">\n",
    "    <h3>Task: Check Code</h3>\n",
    "    <p>Please check out the implementation of <code>train()</code> in <code>../exercise_06/exercise_code/solver.py</code>. </p>\n",
    "</div>"
   ]
  },
  {
   "cell_type": "markdown",
   "metadata": {
    "id": "QUFotyERN5ek"
   },
   "source": [
    "## 1.7 Weight Regularization\n",
    "\n",
    "Before finishing the recap, we want to take a look at some regularization methods that have been introduced in the lecture. Those can be helpful to improve the robustness of our model. In this chapter, we're talking about weight regularization methods.\n",
    "\n",
    "Weight regularization has been introduced to you as a method preventing the model from overfitting to the training data. The weight regularization term is added to the final loss and therefore encodes some preference for a certain set of weights $W$ over others. In the lecture, we compared two weight regularization methods and their respective preference for weight vectors. We made the following observations: \n",
    "\n",
    "1. L1 regularization: Enforces sparsity \n",
    "2. L2 regularization: Enforces that weights have similar values\n",
    "\n",
    "The most common weight regularization method is the L2 regularization. The L2 regularization prefers smaller and more diffuse weight vectors. Therefore, the model is encouraged to take all input dimensions into account rather than focusing strongly on a small number of input dimensions.\n",
    "\n",
    "When using weight regularization, the loss function is a composition of two parts:\n",
    "$$L = \\underbrace{\\frac{1}{N} \\sum_{i} L_i}_{\\text{data loss}}  + \\underbrace{\\lambda R(W)}_{\\text{regularization loss}}$$\n",
    "The first being the data loss, which is calculated using Cross Entropy loss in our model. The second part is called the regularization loss $R(W)$ and is computed in the L2 case as follows:\n",
    "$$R(W) = \\sum_{k} \\sum_{l} w_{k,l}^2$$"
   ]
  },
  {
   "cell_type": "markdown",
   "metadata": {
    "id": "DxExi4hQN5el"
   },
   "source": [
    "# 2. An overview of hyperparameters"
   ]
  },
  {
   "cell_type": "markdown",
   "metadata": {
    "collapsed": true,
    "id": "OdQde3JEN5el"
   },
   "source": [
    "\n",
    "<img src=https://images.deepai.org/glossary-terms/05c646fe1676490aa0b8cab0732a02b2/hyperparams.png alt=hyperparameter width=700>\n",
    "\n",
    "A **hyperparameter** is a parameter that is set before the learning process begins. Recall that the parameters of the weight matrix and the bias vector are learned during the learning process.\n",
    "\n",
    "The hyperparameter settings are essential, since they control and affect the whole training and therefore have a great impact on the model's performance. \n",
    "\n",
    "Some hyperparameters we have covered in lectures are:\n",
    "* Network architecture\n",
    "    * Choice of activation function\n",
    "    * Number of layers\n",
    "    * ...\n",
    "* Learning rate\n",
    "* Number of epochs\n",
    "* Batch size\n",
    "* Regularization strength\n",
    "* Momentum\n",
    "* ..."
   ]
  },
  {
   "cell_type": "markdown",
   "metadata": {
    "id": "Rn6g8Zw1N5el"
   },
   "source": [
    "## 2.1 Start debugging your own network!"
   ]
  },
  {
   "cell_type": "markdown",
   "metadata": {
    "id": "hUoj3OgzN5el"
   },
   "source": [
    "As already suggested in the lectures, you should always start from small and simple architectures, to make sure you are going the right way. \n",
    "\n",
    "As a first step you should try to overfit to a single training sample, then to a few batches of training samples and finally go deeper with larger neural networks and the whole training data.\n",
    "\n",
    "We provide a default neural network (i.e. ClassificationNet) with arbitrary number of layers, which is a generalization from a fixed 2-layer neural network in exercise 5. You are welcome to implement your own network, in that case just implement **MyOwnNetwork** in ```exercise_code/networks/classification_net.py```. You can also copy things from ClassficationNet and make little adjustments to your own network. Either way, just pick one network and comment out the other one, then run the cells below for debugging.\n",
    "\n",
    "<div class=\"alert alert-warning\">\n",
    "    <h3>Note:</h3>\n",
    "    <p>Please, make sure you don't modify the ClassificationNet itself. In this way you can always have a working network to fall back on.</p>\n",
    "    <p>In order to pass this submissions, you can <b>first stick to the default ClassificationNet implementation without changing any code at all</b>. The goal of this submission is to find reasonable hyperparameters and the parameter options of the ClassificationNet are broad enough to pass.</p>\n",
    "    <p>Once you have surpassed the submission goal, you can try to implement additional activation functions in the accompanying notebook, try different weight initializations or make other adjustments by writing your own network architecture in the MyOwnNetwork class.</p>\n",
    "</div>"
   ]
  },
  {
   "cell_type": "markdown",
   "metadata": {
    "id": "gij9DxvmN5el"
   },
   "source": [
    "First, let's start with a 2-layer neural network, and overfit to one single training sample.\n",
    "\n",
    "After training, let's evaluate the training process by plotting the loss curves."
   ]
  },
  {
   "cell_type": "code",
   "execution_count": 13,
   "metadata": {
    "colab": {
     "base_uri": "https://localhost:8080/"
    },
    "executionInfo": {
     "elapsed": 20902,
     "status": "ok",
     "timestamp": 1650011761531,
     "user": {
      "displayName": "Weber Anna",
      "userId": "18154618360144454414"
     },
     "user_tz": -120
    },
    "id": "S1k3JrlsN5el",
    "outputId": "1193ba97-9871-489f-d6a5-f21a3869f09c"
   },
   "outputs": [
    {
     "name": "stdout",
     "output_type": "stream",
     "text": [
      "(Epoch 1 / 20) train loss: 2.327992; val loss: 2.333721\n",
      "(Epoch 2 / 20) train loss: 2.327992; val loss: 2.319396\n",
      "(Epoch 3 / 20) train loss: 2.201901; val loss: 2.326382\n",
      "(Epoch 4 / 20) train loss: 2.052337; val loss: 2.348954\n",
      "(Epoch 5 / 20) train loss: 1.881469; val loss: 2.378780\n",
      "(Epoch 6 / 20) train loss: 1.711020; val loss: 2.407834\n",
      "(Epoch 7 / 20) train loss: 1.556224; val loss: 2.430719\n",
      "(Epoch 8 / 20) train loss: 1.413779; val loss: 2.446227\n",
      "(Epoch 9 / 20) train loss: 1.277494; val loss: 2.456587\n",
      "(Epoch 10 / 20) train loss: 1.146821; val loss: 2.465370\n",
      "(Epoch 11 / 20) train loss: 1.022606; val loss: 2.475761\n",
      "(Epoch 12 / 20) train loss: 0.906329; val loss: 2.489738\n",
      "(Epoch 13 / 20) train loss: 0.800357; val loss: 2.507877\n",
      "(Epoch 14 / 20) train loss: 0.706310; val loss: 2.529640\n",
      "(Epoch 15 / 20) train loss: 0.624434; val loss: 2.554017\n",
      "(Epoch 16 / 20) train loss: 0.553740; val loss: 2.580049\n",
      "(Epoch 17 / 20) train loss: 0.492828; val loss: 2.607101\n",
      "(Epoch 18 / 20) train loss: 0.440498; val loss: 2.634924\n",
      "(Epoch 19 / 20) train loss: 0.395530; val loss: 2.663540\n",
      "(Epoch 20 / 20) train loss: 0.356914; val loss: 2.693061\n"
     ]
    }
   ],
   "source": [
    "from exercise_code.solver import Solver\n",
    "from exercise_code.networks.optimizer import SGD, Adam\n",
    "from exercise_code.networks import MyOwnNetwork\n",
    "\n",
    "num_layer = 2\n",
    "epochs = 20\n",
    "reg = 0.1\n",
    "batch_size = 4\n",
    "\n",
    "model = ClassificationNet(num_layer=num_layer, reg=reg)\n",
    "# model = MyOwnNetwork()\n",
    "\n",
    "loss = CrossEntropyFromLogits()\n",
    "\n",
    "# Make a new data loader with a single training image\n",
    "overfit_dataset = DATASET(\n",
    "    mode='train',\n",
    "    root=cifar_root, \n",
    "    download_url=download_url,\n",
    "    transform=compose_transform,\n",
    "    limit_files=1\n",
    ")\n",
    "dataloaders['train_overfit_single_image'] = DataLoader(\n",
    "    dataset=overfit_dataset,\n",
    "    batch_size=batch_size,\n",
    "    shuffle=True,\n",
    "    drop_last=False,\n",
    ")\n",
    "\n",
    "# Decrease validation data for only debugging\n",
    "debugging_validation_dataset = DATASET(\n",
    "    mode='val',\n",
    "    root=cifar_root, \n",
    "    download_url=download_url,\n",
    "    transform=compose_transform,\n",
    "    limit_files=500\n",
    ")\n",
    "# dataloaders['val_500files'] = DataLoader(\n",
    "#     dataset=debugging_validation_dataset,\n",
    "#     batch_size=batch_size,\n",
    "#     shuffle=True,\n",
    "#     drop_last=True,\n",
    "# )\n",
    "\n",
    "dataloaders['val_2000files'] = DataLoader(\n",
    "    dataset=debugging_validation_dataset,\n",
    "    batch_size=batch_size,\n",
    "    shuffle=True,\n",
    "    drop_last=True,\n",
    ")\n",
    "\n",
    "solver = Solver(model, dataloaders['train_overfit_single_image'], dataloaders['val_2000files'], \n",
    "                learning_rate=1e-3, loss_func=loss, optimizer=Adam)\n",
    "\n",
    "solver.train(epochs=epochs)"
   ]
  },
  {
   "cell_type": "code",
   "execution_count": 14,
   "metadata": {
    "colab": {
     "base_uri": "https://localhost:8080/"
    },
    "executionInfo": {
     "elapsed": 434,
     "status": "ok",
     "timestamp": 1650011761941,
     "user": {
      "displayName": "Weber Anna",
      "userId": "18154618360144454414"
     },
     "user_tz": -120
    },
    "id": "aMc51VqHN5em",
    "outputId": "730d9eb6-6b24-4411-e6b9-c165a73a7e6e"
   },
   "outputs": [
    {
     "data": {
      "image/png": "[encoded data removed]",
      "text/plain": [
       "<Figure size 720x576 with 1 Axes>"
      ]
     },
     "metadata": {
      "needs_background": "light"
     },
     "output_type": "display_data"
    }
   ],
   "source": [
    "plt.title('Loss curves')\n",
    "plt.plot(solver.train_loss_history, '-', label='train')\n",
    "plt.plot(solver.val_loss_history, '-', label='val')\n",
    "plt.legend(loc='lower right')\n",
    "plt.xlabel('Iteration')\n",
    "plt.show()"
   ]
  },
  {
   "cell_type": "code",
   "execution_count": 15,
   "metadata": {
    "colab": {
     "base_uri": "https://localhost:8080/"
    },
    "executionInfo": {
     "elapsed": 244,
     "status": "ok",
     "timestamp": 1650011762177,
     "user": {
      "displayName": "Weber Anna",
      "userId": "18154618360144454414"
     },
     "user_tz": -120
    },
    "id": "cchvV2Q_N5em",
    "outputId": "6ba579ba-58ed-43e8-f3e7-97a51018ee4b"
   },
   "outputs": [
    {
     "name": "stdout",
     "output_type": "stream",
     "text": [
      "Training accuray: 1.00000\n"
     ]
    },
    {
     "ename": "KeyError",
     "evalue": "'val_500files'",
     "output_type": "error",
     "traceback": [
      "\u001b[1;31m---------------------------------------------------------------------------\u001b[0m",
      "\u001b[1;31mKeyError\u001b[0m                                  Traceback (most recent call last)",
      "Input \u001b[1;32mIn [15]\u001b[0m, in \u001b[0;36m<cell line: 2>\u001b[1;34m()\u001b[0m\n\u001b[0;32m      1\u001b[0m \u001b[38;5;28mprint\u001b[39m(\u001b[38;5;124m\"\u001b[39m\u001b[38;5;124mTraining accuray: \u001b[39m\u001b[38;5;132;01m%.5f\u001b[39;00m\u001b[38;5;124m\"\u001b[39m \u001b[38;5;241m%\u001b[39m (solver\u001b[38;5;241m.\u001b[39mget_dataset_accuracy(dataloaders[\u001b[38;5;124m'\u001b[39m\u001b[38;5;124mtrain_overfit_single_image\u001b[39m\u001b[38;5;124m'\u001b[39m])))\n\u001b[1;32m----> 2\u001b[0m \u001b[38;5;28mprint\u001b[39m(\u001b[38;5;124m\"\u001b[39m\u001b[38;5;124mValidation accuray: \u001b[39m\u001b[38;5;132;01m%.5f\u001b[39;00m\u001b[38;5;124m\"\u001b[39m \u001b[38;5;241m%\u001b[39m (solver\u001b[38;5;241m.\u001b[39mget_dataset_accuracy(\u001b[43mdataloaders\u001b[49m\u001b[43m[\u001b[49m\u001b[38;5;124;43m'\u001b[39;49m\u001b[38;5;124;43mval_500files\u001b[39;49m\u001b[38;5;124;43m'\u001b[39;49m\u001b[43m]\u001b[49m)))\n",
      "\u001b[1;31mKeyError\u001b[0m: 'val_500files'"
     ]
    }
   ],
   "source": [
    "print(\"Training accuray: %.5f\" % (solver.get_dataset_accuracy(dataloaders['train_overfit_single_image'])))\n",
    "print(\"Validation accuray: %.5f\" % (solver.get_dataset_accuracy(dataloaders['val_500files'])))"
   ]
  },
  {
   "cell_type": "markdown",
   "metadata": {
    "id": "HeTCu8wwN5em"
   },
   "source": [
    "This time we want to overfit to a small set of training batch samples. Please observe the difference from above. "
   ]
  },
  {
   "cell_type": "code",
   "execution_count": 16,
   "metadata": {
    "colab": {
     "base_uri": "https://localhost:8080/"
    },
    "executionInfo": {
     "elapsed": 32205,
     "status": "ok",
     "timestamp": 1650011794379,
     "user": {
      "displayName": "Weber Anna",
      "userId": "18154618360144454414"
     },
     "user_tz": -120
    },
    "id": "SsIu_JaUN5em",
    "outputId": "81810746-ea3e-4a60-f3b7-dad4230c7231"
   },
   "outputs": [
    {
     "ename": "KeyError",
     "evalue": "'val_500files'",
     "output_type": "error",
     "traceback": [
      "\u001b[1;31m---------------------------------------------------------------------------\u001b[0m",
      "\u001b[1;31mKeyError\u001b[0m                                  Traceback (most recent call last)",
      "Input \u001b[1;32mIn [16]\u001b[0m, in \u001b[0;36m<cell line: 28>\u001b[1;34m()\u001b[0m\n\u001b[0;32m     14\u001b[0m overfit_dataset \u001b[38;5;241m=\u001b[39m DATASET(\n\u001b[0;32m     15\u001b[0m     mode\u001b[38;5;241m=\u001b[39m\u001b[38;5;124m'\u001b[39m\u001b[38;5;124mtrain\u001b[39m\u001b[38;5;124m'\u001b[39m,\n\u001b[0;32m     16\u001b[0m     root\u001b[38;5;241m=\u001b[39mcifar_root, \n\u001b[1;32m   (...)\u001b[0m\n\u001b[0;32m     19\u001b[0m     limit_files\u001b[38;5;241m=\u001b[39mnum_samples\n\u001b[0;32m     20\u001b[0m )\n\u001b[0;32m     21\u001b[0m dataloaders[\u001b[38;5;124m'\u001b[39m\u001b[38;5;124mtrain_overfit_10samples\u001b[39m\u001b[38;5;124m'\u001b[39m] \u001b[38;5;241m=\u001b[39m DataLoader(\n\u001b[0;32m     22\u001b[0m     dataset\u001b[38;5;241m=\u001b[39moverfit_dataset,\n\u001b[0;32m     23\u001b[0m     batch_size\u001b[38;5;241m=\u001b[39mbatch_size,\n\u001b[0;32m     24\u001b[0m     shuffle\u001b[38;5;241m=\u001b[39m\u001b[38;5;28;01mTrue\u001b[39;00m,\n\u001b[0;32m     25\u001b[0m     drop_last\u001b[38;5;241m=\u001b[39m\u001b[38;5;28;01mFalse\u001b[39;00m,\n\u001b[0;32m     26\u001b[0m )\n\u001b[1;32m---> 28\u001b[0m solver \u001b[38;5;241m=\u001b[39m Solver(model, dataloaders[\u001b[38;5;124m'\u001b[39m\u001b[38;5;124mtrain_overfit_10samples\u001b[39m\u001b[38;5;124m'\u001b[39m], \u001b[43mdataloaders\u001b[49m\u001b[43m[\u001b[49m\u001b[38;5;124;43m'\u001b[39;49m\u001b[38;5;124;43mval_500files\u001b[39;49m\u001b[38;5;124;43m'\u001b[39;49m\u001b[43m]\u001b[49m, \n\u001b[0;32m     29\u001b[0m                 learning_rate\u001b[38;5;241m=\u001b[39m\u001b[38;5;241m1e-3\u001b[39m, loss_func\u001b[38;5;241m=\u001b[39mloss, optimizer\u001b[38;5;241m=\u001b[39mAdam)\n\u001b[0;32m     31\u001b[0m solver\u001b[38;5;241m.\u001b[39mtrain(epochs\u001b[38;5;241m=\u001b[39mepochs)\n",
      "\u001b[1;31mKeyError\u001b[0m: 'val_500files'"
     ]
    }
   ],
   "source": [
    "from exercise_code.networks import MyOwnNetwork\n",
    "\n",
    "num_layer = 2\n",
    "epochs = 100\n",
    "reg = 0.1\n",
    "num_samples = 10\n",
    "\n",
    "model = ClassificationNet(num_layer=num_layer, reg=reg)\n",
    "# model = MyOwnNetwork()\n",
    "\n",
    "loss = CrossEntropyFromLogits()\n",
    "\n",
    "# Make a new data loader with a our num_samples training image\n",
    "overfit_dataset = DATASET(\n",
    "    mode='train',\n",
    "    root=cifar_root, \n",
    "    download_url=download_url,\n",
    "    transform=compose_transform,\n",
    "    limit_files=num_samples\n",
    ")\n",
    "dataloaders['train_overfit_10samples'] = DataLoader(\n",
    "    dataset=overfit_dataset,\n",
    "    batch_size=batch_size,\n",
    "    shuffle=True,\n",
    "    drop_last=False,\n",
    ")\n",
    "\n",
    "solver = Solver(model, dataloaders['train_overfit_10samples'], dataloaders['val_500files'], \n",
    "                learning_rate=1e-3, loss_func=loss, optimizer=Adam)\n",
    "\n",
    "solver.train(epochs=epochs)"
   ]
  },
  {
   "cell_type": "code",
   "execution_count": 17,
   "metadata": {
    "colab": {
     "base_uri": "https://localhost:8080/"
    },
    "executionInfo": {
     "elapsed": 15,
     "status": "ok",
     "timestamp": 1650011794380,
     "user": {
      "displayName": "Weber Anna",
      "userId": "18154618360144454414"
     },
     "user_tz": -120
    },
    "id": "DmzTCYw_N5en",
    "outputId": "8076912f-608c-497c-e092-3da5e9e8ddcd"
   },
   "outputs": [
    {
     "data": {
      "image/png": "[encoded data removed]",
      "text/plain": [
       "<Figure size 720x576 with 1 Axes>"
      ]
     },
     "metadata": {
      "needs_background": "light"
     },
     "output_type": "display_data"
    }
   ],
   "source": [
    "plt.title('Loss curves')\n",
    "plt.plot(solver.train_loss_history, '-', label='train')\n",
    "plt.plot(solver.val_loss_history, '-', label='val')\n",
    "plt.legend(loc='lower right')\n",
    "plt.xlabel('Iteration')\n",
    "plt.show()"
   ]
  },
  {
   "cell_type": "code",
   "execution_count": 18,
   "metadata": {
    "colab": {
     "base_uri": "https://localhost:8080/"
    },
    "executionInfo": {
     "elapsed": 822,
     "status": "ok",
     "timestamp": 1650011795194,
     "user": {
      "displayName": "Weber Anna",
      "userId": "18154618360144454414"
     },
     "user_tz": -120
    },
    "id": "8H8xyMcaN5en",
    "outputId": "55c1d949-949d-414f-8a34-fa85faa9ed9b"
   },
   "outputs": [
    {
     "name": "stdout",
     "output_type": "stream",
     "text": [
      "Training accuray: 0.20000\n"
     ]
    },
    {
     "ename": "KeyError",
     "evalue": "'val_500files'",
     "output_type": "error",
     "traceback": [
      "\u001b[1;31m---------------------------------------------------------------------------\u001b[0m",
      "\u001b[1;31mKeyError\u001b[0m                                  Traceback (most recent call last)",
      "Input \u001b[1;32mIn [18]\u001b[0m, in \u001b[0;36m<cell line: 2>\u001b[1;34m()\u001b[0m\n\u001b[0;32m      1\u001b[0m \u001b[38;5;28mprint\u001b[39m(\u001b[38;5;124m\"\u001b[39m\u001b[38;5;124mTraining accuray: \u001b[39m\u001b[38;5;132;01m%.5f\u001b[39;00m\u001b[38;5;124m\"\u001b[39m \u001b[38;5;241m%\u001b[39m (solver\u001b[38;5;241m.\u001b[39mget_dataset_accuracy(dataloaders[\u001b[38;5;124m'\u001b[39m\u001b[38;5;124mtrain_overfit_10samples\u001b[39m\u001b[38;5;124m'\u001b[39m])))\n\u001b[1;32m----> 2\u001b[0m \u001b[38;5;28mprint\u001b[39m(\u001b[38;5;124m\"\u001b[39m\u001b[38;5;124mValidation accuray: \u001b[39m\u001b[38;5;132;01m%.5f\u001b[39;00m\u001b[38;5;124m\"\u001b[39m \u001b[38;5;241m%\u001b[39m (solver\u001b[38;5;241m.\u001b[39mget_dataset_accuracy(\u001b[43mdataloaders\u001b[49m\u001b[43m[\u001b[49m\u001b[38;5;124;43m'\u001b[39;49m\u001b[38;5;124;43mval_500files\u001b[39;49m\u001b[38;5;124;43m'\u001b[39;49m\u001b[43m]\u001b[49m)))\n",
      "\u001b[1;31mKeyError\u001b[0m: 'val_500files'"
     ]
    }
   ],
   "source": [
    "print(\"Training accuray: %.5f\" % (solver.get_dataset_accuracy(dataloaders['train_overfit_10samples'])))\n",
    "print(\"Validation accuray: %.5f\" % (solver.get_dataset_accuracy(dataloaders['val_500files'])))"
   ]
  },
  {
   "cell_type": "markdown",
   "metadata": {
    "id": "7PoTJskAN5en"
   },
   "source": [
    "If you're overfitting to the training data, that means the network's implementation is correct. However, as you have more samples to overfit, your accuracy will be way lower. You can increase the number of epochs above to achieve better results.\n",
    "\n",
    "Now let's try to feed all the training and validation data into the network, but this time let's set compare a 2-layer and a 5-layer network, using the same hyperparameters.\n",
    "\n",
    "<div class=\"alert alert-warning\">\n",
    "    <h3>Note:</h3>\n",
    "    <p>This may take about 1 min per epoch as the training set is quite large. For convenience, we are now only using 1000 images for training but use the full validation set.</p>\n",
    "</div>"
   ]
  },
  {
   "cell_type": "code",
   "execution_count": 19,
   "metadata": {
    "colab": {
     "background_save": true
    },
    "id": "ayhMGBUBN5en",
    "outputId": "0f77d4ee-a8c9-4ddc-e538-c1818c306acf"
   },
   "outputs": [
    {
     "name": "stdout",
     "output_type": "stream",
     "text": [
      "(Epoch 1 / 5) train loss: 2.305701; val loss: 2.305666\n",
      "(Epoch 2 / 5) train loss: 2.278313; val loss: 2.217917\n",
      "(Epoch 3 / 5) train loss: 2.229720; val loss: 2.238025\n",
      "(Epoch 4 / 5) train loss: 2.225433; val loss: 2.224318\n",
      "(Epoch 5 / 5) train loss: 2.221443; val loss: 2.224139\n"
     ]
    }
   ],
   "source": [
    "from exercise_code.networks import MyOwnNetwork\n",
    "\n",
    "num_layer = 2\n",
    "epochs = 5\n",
    "reg = 0.01\n",
    "\n",
    "# Make a new data loader with 1000 training samples\n",
    "num_samples = 1000\n",
    "overfit_dataset = DATASET(\n",
    "    mode='train',\n",
    "    root=cifar_root, \n",
    "    download_url=download_url,\n",
    "    transform=compose_transform,\n",
    "    limit_files=num_samples\n",
    ")\n",
    "dataloaders['train_small'] = DataLoader(\n",
    "    dataset=overfit_dataset,\n",
    "    batch_size=batch_size,\n",
    "    shuffle=True,\n",
    "    drop_last=False,\n",
    ")\n",
    "\n",
    "\n",
    "# Change here if you want to use the full training set\n",
    "use_full_training_set = False\n",
    "if not use_full_training_set:\n",
    "    train_loader = dataloaders['train_small']\n",
    "else:\n",
    "    train_loader = dataloaders['train']\n",
    "    \n",
    "\n",
    "model = ClassificationNet(num_layer=num_layer, reg=reg)\n",
    "# model = MyOwnNetwork()\n",
    "\n",
    "loss = CrossEntropyFromLogits()\n",
    "\n",
    "solver = Solver(model, train_loader, dataloaders['val'], \n",
    "                learning_rate=1e-3, loss_func=loss, optimizer=Adam)\n",
    "\n",
    "solver.train(epochs=epochs)"
   ]
  },
  {
   "cell_type": "code",
   "execution_count": 20,
   "metadata": {
    "colab": {
     "background_save": true
    },
    "id": "3htGtgttN5en",
    "outputId": "6336d86c-13c1-40e5-9080-7aa5ed774959"
   },
   "outputs": [
    {
     "data": {
      "image/png": "[encoded data removed]",
      "text/plain": [
       "<Figure size 720x576 with 1 Axes>"
      ]
     },
     "metadata": {
      "needs_background": "light"
     },
     "output_type": "display_data"
    }
   ],
   "source": [
    "plt.title('Loss curves')\n",
    "plt.plot(solver.train_loss_history, '-', label='train')\n",
    "plt.plot(solver.val_loss_history, '-', label='val')\n",
    "plt.legend(loc='lower right')\n",
    "plt.xlabel('Iteration')\n",
    "plt.show()"
   ]
  },
  {
   "cell_type": "code",
   "execution_count": 21,
   "metadata": {
    "colab": {
     "background_save": true
    },
    "id": "oOVafQ7yN5eo",
    "outputId": "7207ecce-50aa-4e80-83ee-1d05529ab23a"
   },
   "outputs": [
    {
     "name": "stdout",
     "output_type": "stream",
     "text": [
      "Training accuray: 0.31100\n",
      "Validation accuray: 0.25591\n"
     ]
    }
   ],
   "source": [
    "print(\"Training accuray: %.5f\" % (solver.get_dataset_accuracy(train_loader)))\n",
    "print(\"Validation accuray: %.5f\" % (solver.get_dataset_accuracy(dataloaders['val'])))"
   ]
  },
  {
   "cell_type": "code",
   "execution_count": null,
   "metadata": {
    "colab": {
     "background_save": true
    },
    "id": "vG9U5OmwN5eo",
    "outputId": "4aa8426b-eea9-4be8-bc08-6add66c4cf82"
   },
   "outputs": [],
   "source": [
    "from exercise_code.networks import MyOwnNetwork\n",
    "\n",
    "num_layer = 5\n",
    "epochs = 5\n",
    "reg = 0.01\n",
    "\n",
    "model = ClassificationNet(num_layer=num_layer, reg=reg)\n",
    "# model = MyOwnNetwork()\n",
    "\n",
    "# Change here if you want to use the full training set\n",
    "use_full_training_set = False\n",
    "if not use_full_training_set:\n",
    "    train_loader = dataloaders['train_small']\n",
    "else:\n",
    "    train_loader = dataloaders['train']\n",
    "\n",
    "loss = CrossEntropyFromLogits()\n",
    "\n",
    "solver = Solver(model, train_loader, dataloaders['val'], \n",
    "                learning_rate=1e-3, loss_func=loss, optimizer=Adam)\n",
    "\n",
    "solver.train(epochs=epochs)"
   ]
  },
  {
   "cell_type": "code",
   "execution_count": null,
   "metadata": {
    "colab": {
     "background_save": true
    },
    "id": "08XZk2GYN5eo",
    "outputId": "3d04c7c9-a0ce-4522-c858-e9491fca8102"
   },
   "outputs": [],
   "source": [
    "plt.title('Loss curves')\n",
    "plt.plot(solver.train_loss_history, '-', label='train')\n",
    "plt.plot(solver.val_loss_history, '-', label='val')\n",
    "plt.legend(loc='lower right')\n",
    "plt.xlabel('Iteration')\n",
    "plt.show()"
   ]
  },
  {
   "cell_type": "code",
   "execution_count": null,
   "metadata": {
    "colab": {
     "background_save": true
    },
    "id": "7-sI0yyWN5eo",
    "outputId": "29f489a2-6899-410e-9e82-8026cb77d505"
   },
   "outputs": [],
   "source": [
    "print(\"Training accuray: %.5f\" % (solver.get_dataset_accuracy(train_loader)))\n",
    "print(\"Validation accuray: %.5f\" % (solver.get_dataset_accuracy(dataloaders['val'])))"
   ]
  },
  {
   "cell_type": "markdown",
   "metadata": {
    "id": "_nNdnSi4N5eo"
   },
   "source": [
    "As you can see from above, the same hyperparameter set can decrease the loss for a 2-layer network, but for 5-layer network, it hardly works.\n",
    "\n",
    "The steps above are already mentioned in the lectures as debugging steps before training a neural network. \n",
    "\n",
    "If you implement your own network, make sure you do the steps above before tuning the hyperparameters as below. "
   ]
  },
  {
   "cell_type": "markdown",
   "metadata": {
    "id": "l0pZa4weN5eo"
   },
   "source": [
    "## 2.2 Difficulty in tuning hyperparameters\n",
    "Small decisions on hyperparameters count. Usually, but not always, hyperparameters cannot be learned using well known gradient based methods (such as gradient descent), which are commonly employed to learn parameters. \n",
    "\n",
    "As mentioned before, hyperparameters need to be set before training. Tuning hyperparameters is hard, because you always have to try different combinations of the hyperparameters, train the network, do the validation and pick the best one. Besides, it is not guaranteed that you'll find the best combination.\n",
    "\n",
    "Let's do some hands on learning using the hyperparameter tuning methods covered in the lectures."
   ]
  },
  {
   "cell_type": "markdown",
   "metadata": {
    "id": "pDQl6fY6N5ep"
   },
   "source": [
    "# 3. Hyperparameter Tuning\n",
    "\n",
    "![alt text](https://blog.floydhub.com/content/images/2018/08/Screen-Shot-2018-08-22-at-17.59.25.png \"\")\n",
    "\n",
    "One of the main challenges in deep learning is finding the set of hyperparameters that performs best.\n",
    "\n",
    "So far, we have followed a manual approach by guessing hyperparameters, running the model, observing the result and maybe tweaking the hyperparameters based on this result. As you have probably noticed, this manual hyperparameter tuning is unstructured, inefficient and can become very tedious.\n",
    "\n",
    "\n",
    "A more systematic (and actually very simple) approach for hyperparameter tuning that you've already learned in the lecture  is implementing a **Grid Search**. \n",
    "\n",
    "\n",
    "\n",
    "## 3.1 Grid Search\n",
    "Grid search is a simple and naive, yet effective method to automate the hyperparameter tuning:\n",
    "\n",
    "* First, you define the set of parameters you want to tune, e.g. $\\{learning\\_rate, regularization\\_strength\\}$.\n",
    "\n",
    "* For each hyperparameter, you then define a set of possible values, e.g. $learning\\_rate = \\{0.0001, 0.001, 0.01, 0.1\\}$.\n",
    "\n",
    "* Then, you train a model for every possible combination of these hyperparameter values and afterwards select the combination that works best (e.g. in terms of accuracy on your validation set).\n",
    "\n",
    "<div class=\"alert alert-success\">\n",
    "    <h3>Task: Check Code</h3>\n",
    "    <p>Check out our <code>grid_search</code> implementation in <code>../exercise_6/exercise_code/hyperparameter_tuning.py</code>. We show a simple for loop implementation and a more sophisticated one for multiple inputs. </p>\n",
    "</div>\n",
    " \n",
    " <div class=\"alert alert-warning\">\n",
    "    <h3>Note:</h3>\n",
    "    <p>To keep things simple in the beginning, it'll be enough to just focus on the hyperparameters <code>learning_rate</code> and <code>regularization_strength</code> here, as in the example above.</p>\n",
    "</div>"
   ]
  },
  {
   "cell_type": "code",
   "execution_count": 26,
   "metadata": {
    "colab": {
     "background_save": true
    },
    "id": "BBW9Vl4rN5ep",
    "outputId": "39d57fd3-e250-4826-d0b6-89952b9ae73b"
   },
   "outputs": [
    {
     "name": "stdout",
     "output_type": "stream",
     "text": [
      "\n",
      "Evaluating Config #1 [of 3]:\n",
      " {'learning_rate': 0.01, 'reg': 0.0001}\n",
      "(Epoch 1 / 10) train loss: 2.302645; val loss: 2.302558\n",
      "(Epoch 2 / 10) train loss: 2.515029; val loss: 2.627459\n",
      "(Epoch 3 / 10) train loss: 2.729918; val loss: 2.826651\n",
      "(Epoch 4 / 10) train loss: 2.919876; val loss: 3.004572\n"
     ]
    },
    {
     "name": "stderr",
     "output_type": "stream",
     "text": [
      "W:\\Python\\I2DL\\exercise_06\\exercise_code\\networks\\layer.py:66: RuntimeWarning: overflow encountered in exp\n",
      "  outputs = 1 / (1 + np.exp(-x))\n"
     ]
    },
    {
     "name": "stdout",
     "output_type": "stream",
     "text": [
      "(Epoch 5 / 10) train loss: 3.021135; val loss: 3.119980\n",
      "(Epoch 6 / 10) train loss: 3.092319; val loss: 3.394839\n",
      "Stopping early at epoch 5!\n",
      "\n",
      "Evaluating Config #2 [of 3]:\n",
      " {'learning_rate': 0.001, 'reg': 0.0001}\n",
      "(Epoch 1 / 10) train loss: 2.302830; val loss: 2.302666\n",
      "(Epoch 2 / 10) train loss: 2.197207; val loss: 2.057144\n",
      "(Epoch 3 / 10) train loss: 2.009942; val loss: 2.033115\n",
      "(Epoch 4 / 10) train loss: 1.905080; val loss: 1.978702\n",
      "(Epoch 5 / 10) train loss: 1.823228; val loss: 1.960578\n",
      "(Epoch 6 / 10) train loss: 1.768608; val loss: 1.974123\n",
      "(Epoch 7 / 10) train loss: 1.697968; val loss: 1.988168\n",
      "(Epoch 8 / 10) train loss: 1.628132; val loss: 1.996588\n",
      "(Epoch 9 / 10) train loss: 1.575345; val loss: 2.025054\n",
      "(Epoch 10 / 10) train loss: 1.533492; val loss: 2.001875\n",
      "Stopping early at epoch 9!\n",
      "\n",
      "Evaluating Config #3 [of 3]:\n",
      " {'learning_rate': 0.0001, 'reg': 0.0001}\n",
      "(Epoch 1 / 10) train loss: 2.302286; val loss: 2.302513\n",
      "(Epoch 2 / 10) train loss: 2.285514; val loss: 2.252373\n",
      "(Epoch 3 / 10) train loss: 2.208247; val loss: 2.180941\n",
      "(Epoch 4 / 10) train loss: 2.135448; val loss: 2.127611\n",
      "(Epoch 5 / 10) train loss: 2.079232; val loss: 2.090427\n",
      "(Epoch 6 / 10) train loss: 2.033185; val loss: 2.065507\n",
      "(Epoch 7 / 10) train loss: 1.997253; val loss: 2.044164\n",
      "(Epoch 8 / 10) train loss: 1.959410; val loss: 2.029380\n",
      "(Epoch 9 / 10) train loss: 1.925967; val loss: 2.011712\n",
      "(Epoch 10 / 10) train loss: 1.892385; val loss: 1.990060\n",
      "\n",
      "Search done. Best Val Loss = 1.9605778967274652\n",
      "Best Config: {'learning_rate': 0.001, 'reg': 0.0001}\n"
     ]
    },
    {
     "ename": "ValueError",
     "evalue": "too many values to unpack (expected 2)",
     "output_type": "error",
     "traceback": [
      "\u001b[1;31m---------------------------------------------------------------------------\u001b[0m",
      "\u001b[1;31mValueError\u001b[0m                                Traceback (most recent call last)",
      "Input \u001b[1;32mIn [26]\u001b[0m, in \u001b[0;36m<cell line: 7>\u001b[1;34m()\u001b[0m\n\u001b[0;32m      4\u001b[0m model_class \u001b[38;5;241m=\u001b[39m ClassificationNet\n\u001b[0;32m      6\u001b[0m \u001b[38;5;28;01mfrom\u001b[39;00m \u001b[38;5;21;01mexercise_code\u001b[39;00m \u001b[38;5;28;01mimport\u001b[39;00m hyperparameter_tuning\n\u001b[1;32m----> 7\u001b[0m best_model, results \u001b[38;5;241m=\u001b[39m hyperparameter_tuning\u001b[38;5;241m.\u001b[39mgrid_search(\n\u001b[0;32m      8\u001b[0m     dataloaders[\u001b[38;5;124m'\u001b[39m\u001b[38;5;124mtrain_small\u001b[39m\u001b[38;5;124m'\u001b[39m], dataloaders[\u001b[38;5;124m'\u001b[39m\u001b[38;5;124mval_2000files\u001b[39m\u001b[38;5;124m'\u001b[39m],\n\u001b[0;32m      9\u001b[0m     grid_search_spaces \u001b[38;5;241m=\u001b[39m {\n\u001b[0;32m     10\u001b[0m         \u001b[38;5;124m\"\u001b[39m\u001b[38;5;124mlearning_rate\u001b[39m\u001b[38;5;124m\"\u001b[39m: [\u001b[38;5;241m1e-2\u001b[39m, \u001b[38;5;241m1e-3\u001b[39m, \u001b[38;5;241m1e-4\u001b[39m], \n\u001b[0;32m     11\u001b[0m         \u001b[38;5;124m\"\u001b[39m\u001b[38;5;124mreg\u001b[39m\u001b[38;5;124m\"\u001b[39m: [\u001b[38;5;241m1e-4\u001b[39m]\n\u001b[0;32m     12\u001b[0m     },\n\u001b[0;32m     13\u001b[0m     model_class\u001b[38;5;241m=\u001b[39mmodel_class,\n\u001b[0;32m     14\u001b[0m     epochs\u001b[38;5;241m=\u001b[39m\u001b[38;5;241m10\u001b[39m, patience\u001b[38;5;241m=\u001b[39m\u001b[38;5;241m5\u001b[39m)\n",
      "\u001b[1;31mValueError\u001b[0m: too many values to unpack (expected 2)"
     ]
    }
   ],
   "source": [
    "from exercise_code.networks import MyOwnNetwork\n",
    "\n",
    "# Specify the used network\n",
    "model_class = ClassificationNet\n",
    "\n",
    "from exercise_code import hyperparameter_tuning\n",
    "best_model, results = hyperparameter_tuning.grid_search(\n",
    "    dataloaders['train_small'], dataloaders['val_2000files'],\n",
    "    grid_search_spaces = {\n",
    "        \"learning_rate\": [1e-2, 1e-3, 1e-4], \n",
    "        \"reg\": [1e-4]\n",
    "    },\n",
    "    model_class=model_class,\n",
    "    epochs=10, patience=5)"
   ]
  },
  {
   "cell_type": "markdown",
   "metadata": {
    "id": "5v0g7q9xN5ep"
   },
   "source": [
    "From the results of your grid search, you might already have found some hyperparameter combinations that work better than others. A common practice is to now repeat the grid search on a more narrow domain centered around the parameters that worked best. \n",
    "\n",
    "**Conclusion Grid Search**\n",
    "\n",
    "With grid search we have automated the hyperparameter tuning to a certain degree. Another advantage is, that since the trainings of the models are independent of each other, you can parallelize the grid search, by e.g. trying out different hyperparameter configurations in parallel on different machines.\n",
    "\n",
    "However, as you have probably noticed, there is one big problem with this approach: the number of possible combinations grows exponentially with the number of hyperparameters (\"curse of dimensionality\"). As we add more hyperparameters to the grid search, the search space will explode in time complexity, making this strategy unfeasible."
   ]
  },
  {
   "cell_type": "markdown",
   "metadata": {
    "id": "m_NvhoFcN5ep"
   },
   "source": [
    "Especially when your search space contains more than 3 or 4 dimensions, it is often better to use another, similar hyperparameter tuning method that you've already learned about: random search."
   ]
  },
  {
   "cell_type": "markdown",
   "metadata": {
    "id": "rDyeiAN1N5ep"
   },
   "source": [
    "## 3.2 Random Search\n",
    "Random search is very similar to grid search, with the only difference, that instead of providing specific values for every hyperparameter, you only define a range for each hyperparameter - then, the values are sampled randomly from the provided ranges.\n",
    "\n",
    "![alt text](https://i.stack.imgur.com/cIDuR.png \"\")\n",
    "\n",
    "The figure above illustrates the difference in the hyperparameter space exploration between grid search and random search: assume you have 2 hyperparameters with each 3 values. Running a grid search results in training $3^2=9$ different models - but in the end, you've just tired out 3 values for each parameter. For random search on the other hand, after training 9 models you'll have tried out 9 different values for each hyperparameter, which often leads much faster to good results.\n",
    "\n",
    "To get a deeper understanding of random search and why it is more efficient than grid search, you should definitely check out this paper: http://www.jmlr.org/papers/volume13/bergstra12a/bergstra12a.pdf\n",
    "\n",
    "<div class=\"alert alert-success\">\n",
    "    <h3>Task: Check Code</h3>\n",
    "    <p>Check out our <code>random_search</code> implementation in <code>../exercise_6/exercise_code/hyperparameter_tuning.py</code></p>\n",
    "</div>\n",
    "\n",
    "\n",
    "*Hint: regarding the sample space of each parameter, think about the scale for which it makes most sense to sample in. For example the learning rate is usually sampled on a logarithmic scale!*\n",
    "\n",
    "*For simplicity and speed, just use the `train_batches`-dataloader!*"
   ]
  },
  {
   "cell_type": "code",
   "execution_count": 22,
   "metadata": {
    "colab": {
     "background_save": true
    },
    "id": "d64soT68N5ep",
    "outputId": "eafe47b6-33db-401e-8d4e-96573caa8048"
   },
   "outputs": [
    {
     "ename": "KeyError",
     "evalue": "'val_500files'",
     "output_type": "error",
     "traceback": [
      "\u001b[1;31m---------------------------------------------------------------------------\u001b[0m",
      "\u001b[1;31mKeyError\u001b[0m                                  Traceback (most recent call last)",
      "Input \u001b[1;32mIn [22]\u001b[0m, in \u001b[0;36m<cell line: 7>\u001b[1;34m()\u001b[0m\n\u001b[0;32m      4\u001b[0m \u001b[38;5;66;03m# Specify the used network\u001b[39;00m\n\u001b[0;32m      5\u001b[0m model_class \u001b[38;5;241m=\u001b[39m ClassificationNet\n\u001b[0;32m      7\u001b[0m best_model, results \u001b[38;5;241m=\u001b[39m random_search(\n\u001b[1;32m----> 8\u001b[0m     dataloaders[\u001b[38;5;124m'\u001b[39m\u001b[38;5;124mtrain_small\u001b[39m\u001b[38;5;124m'\u001b[39m], \u001b[43mdataloaders\u001b[49m\u001b[43m[\u001b[49m\u001b[38;5;124;43m'\u001b[39;49m\u001b[38;5;124;43mval_500files\u001b[39;49m\u001b[38;5;124;43m'\u001b[39;49m\u001b[43m]\u001b[49m,\n\u001b[0;32m      9\u001b[0m     random_search_spaces \u001b[38;5;241m=\u001b[39m {\n\u001b[0;32m     10\u001b[0m         \u001b[38;5;124m\"\u001b[39m\u001b[38;5;124mlearning_rate\u001b[39m\u001b[38;5;124m\"\u001b[39m: ([\u001b[38;5;241m1e-2\u001b[39m, \u001b[38;5;241m1e-6\u001b[39m], \u001b[38;5;124m'\u001b[39m\u001b[38;5;124mlog\u001b[39m\u001b[38;5;124m'\u001b[39m),\n\u001b[0;32m     11\u001b[0m         \u001b[38;5;124m\"\u001b[39m\u001b[38;5;124mreg\u001b[39m\u001b[38;5;124m\"\u001b[39m: ([\u001b[38;5;241m1e-3\u001b[39m, \u001b[38;5;241m1e-7\u001b[39m], \u001b[38;5;124m\"\u001b[39m\u001b[38;5;124mlog\u001b[39m\u001b[38;5;124m\"\u001b[39m),\n\u001b[0;32m     12\u001b[0m         \u001b[38;5;124m\"\u001b[39m\u001b[38;5;124mloss_func\u001b[39m\u001b[38;5;124m\"\u001b[39m: ([CrossEntropyFromLogits()], \u001b[38;5;124m\"\u001b[39m\u001b[38;5;124mitem\u001b[39m\u001b[38;5;124m\"\u001b[39m)\n\u001b[0;32m     13\u001b[0m     },\n\u001b[0;32m     14\u001b[0m     model_class\u001b[38;5;241m=\u001b[39mmodel_class,\n\u001b[0;32m     15\u001b[0m     num_search \u001b[38;5;241m=\u001b[39m \u001b[38;5;241m1\u001b[39m, epochs\u001b[38;5;241m=\u001b[39m\u001b[38;5;241m20\u001b[39m, patience\u001b[38;5;241m=\u001b[39m\u001b[38;5;241m5\u001b[39m)\n",
      "\u001b[1;31mKeyError\u001b[0m: 'val_500files'"
     ]
    }
   ],
   "source": [
    "from exercise_code.hyperparameter_tuning import random_search\n",
    "from exercise_code.networks import MyOwnNetwork\n",
    "\n",
    "# Specify the used network\n",
    "model_class = ClassificationNet\n",
    "\n",
    "best_model, results = random_search(\n",
    "    dataloaders['train_small'], dataloaders['val_500files'],\n",
    "    random_search_spaces = {\n",
    "        \"learning_rate\": ([1e-2, 1e-6], 'log'),\n",
    "        \"reg\": ([1e-3, 1e-7], \"log\"),\n",
    "        \"loss_func\": ([CrossEntropyFromLogits()], \"item\")\n",
    "    },\n",
    "    model_class=model_class,\n",
    "    num_search = 1, epochs=20, patience=5)"
   ]
  },
  {
   "cell_type": "code",
   "execution_count": null,
   "metadata": {},
   "outputs": [],
   "source": []
  },
  {
   "cell_type": "markdown",
   "metadata": {
    "id": "LayF5YYbN5eq"
   },
   "source": [
    "It's time to run it with the whole dataset, and let it search for a few hours for a nice configuration. \n",
    "\n",
    "However, to save some time, let's first implement an **early-stopping** mechanism, that you also already know from the lecture."
   ]
  },
  {
   "cell_type": "markdown",
   "metadata": {
    "id": "DCaACnn3N5eq"
   },
   "source": [
    "## 3.3 Early Stopping"
   ]
  },
  {
   "cell_type": "markdown",
   "metadata": {
    "id": "IjsO1OPLN5eq"
   },
   "source": [
    "By now you've already seen a lot of training curves:\n",
    "\n",
    "<img src=http://fouryears.eu/wp-content/uploads/2017/12/early_stopping.png></img>\n",
    "\n",
    "Usually, at some point the validation loss goes up again, which is a sign that we're overfitting to our training data. Since it actually doesn't make sense to train further at this point, it's common practice to apply \"early stopping\", i.e., cancel the training process when the validation loss doesn't improve anymore. The nice thing about this concept is, that not only it improves generalization through the prevention of overfitting, but also it saves us a lot of time - one of our most valuable resources in deep learning.\n",
    "\n",
    "Since there are natural fluctuations in the validation loss, you usually don't cancel the training process right at the first epoch when the validation-loss increases, but instead, you wait for some epochs (specified by the `patience`-parameter) and if the loss still doesn't improve, we stop.\n",
    "\n",
    "<div class=\"alert alert-success\">\n",
    "    <h3>Task: Check Code</h3>\n",
    "    <p>Please check the implementation of the early stopping mechanism in <code>../exercise_6/exercise_code/solver.py</code>.\n",
    " </p>\n",
    "</div>"
   ]
  },
  {
   "cell_type": "markdown",
   "metadata": {
    "id": "P8wWTovfN5eq"
   },
   "source": [
    "## 3.4 Let's find the perfect model!"
   ]
  },
  {
   "cell_type": "markdown",
   "metadata": {
    "id": "ksUYQAhgN5eq"
   },
   "source": [
    "Now you've set everything up and you are ready to train your model. You can use a combination of grid and random search to find proper hyperparameters. \n",
    "\n",
    "Be aware that this process will take some time, since we'll be using a much larger dataset.\n",
    "\n",
    "At the beginning, it is a good approach to do a coarse random search across a wide range of values to find promising sub-ranges of your parameter space. Afterwards, you can zoom into these ranges and perform another random search (or grid search) to finetune the configurations.\n",
    "\n",
    "To save time and resources, don't use the whole dataset at the beginning, but instead a medium large subset of the samples. Also, you don't have to train for a large number of epochs - as mentioned above: we first want to get an overview about our hyper parameters.\n",
    "\n",
    "<div class=\"alert alert-info\">\n",
    "    <h3>Task: Hyperparameters Tunning & Model Training </h3>\n",
    "        <p> Now, it is your turn to do the hyperparamater tuning. In the cell below, you can use the <code>random_search</code> function to find a good choice of parameters. Put in some reasonable ranges for the hyperparameters and evaluate them.\n",
    "    <p> <b>Note:</b> At the beginning, it's a good approach to first do a coarse random search across a <b> wide range of values</b> to find promising sub-ranges of your parameter space and use <b> a medium large subset of the dataset </b>. Afterwards, you can zoom into these ranges and do another random search (or grid search) to finetune the configurations. Use the cell below to play around and find good hyperparameters for your model!</p>\n",
    "        <p> Finally, once you've found some promising hyperparameters (or narrowed them down to promising subranges), it's time to utilize these hyperparameters to train your network on the whole dataset for a large number of epochs so that your own model can reach an acceptable performance. \n",
    "        <p> <b>Hint:</b> You may use a <code>Solver</code> class we provided before or directly use the <code>random_search</code> function (as you can also monitor the loss here) for model training.\n",
    "</div>"
   ]
  },
  {
   "cell_type": "code",
   "execution_count": 23,
   "metadata": {},
   "outputs": [],
   "source": [
    "# Decrease validation data for only debugging\n",
    "num_train_samples = 1000\n",
    "overfit_dataset = DATASET(\n",
    "    mode='train',\n",
    "    root=cifar_root, \n",
    "    download_url=download_url,\n",
    "    transform=compose_transform,\n",
    "    limit_files=num_train_samples\n",
    ")\n",
    "dataloaders['train_small'] = DataLoader(\n",
    "    dataset=overfit_dataset,\n",
    "    batch_size=batch_size,\n",
    "    shuffle=True,\n",
    "    drop_last=False,\n",
    ")\n",
    "num_val_samples = 500\n",
    "debugging_validation_dataset = DATASET(\n",
    "    mode='val',\n",
    "    root=cifar_root, \n",
    "    download_url=download_url,\n",
    "    transform=compose_transform,\n",
    "    limit_files=num_val_samples\n",
    ")\n",
    "\n",
    "\n",
    "dataloaders['val_2000files'] = DataLoader(\n",
    "    dataset=debugging_validation_dataset,\n",
    "    batch_size=batch_size,\n",
    "    shuffle=True,\n",
    "    drop_last=True,\n",
    ")"
   ]
  },
  {
   "cell_type": "code",
   "execution_count": 21,
   "metadata": {
    "colab": {
     "background_save": true
    },
    "id": "g2C24gzzN5eq",
    "outputId": "f9a7ca76-0471-44bc-dbb7-ac7f5d14e581"
   },
   "outputs": [
    {
     "name": "stdout",
     "output_type": "stream",
     "text": [
      "\n",
      "Evaluating Config #1 [of 100]:\n",
      " {'learning_rate': 0.00031758069123832914, 'reg': 5.212323124847898e-07, 'loss_func': <exercise_code.networks.loss.CrossEntropyFromLogits object at 0x000001FFE2B41220>}\n",
      "(Epoch 1 / 20) train loss: 2.302614; val loss: 2.302527\n",
      "(Epoch 2 / 20) train loss: 2.231282; val loss: 2.143035\n",
      "(Epoch 3 / 20) train loss: 2.069199; val loss: 2.050423\n"
     ]
    },
    {
     "ename": "KeyboardInterrupt",
     "evalue": "",
     "output_type": "error",
     "traceback": [
      "\u001b[1;31m---------------------------------------------------------------------------\u001b[0m",
      "\u001b[1;31mKeyboardInterrupt\u001b[0m                         Traceback (most recent call last)",
      "Input \u001b[1;32mIn [21]\u001b[0m, in \u001b[0;36m<cell line: 15>\u001b[1;34m()\u001b[0m\n\u001b[0;32m      3\u001b[0m \u001b[38;5;66;03m#best_model = MyOwnNetwork()\u001b[39;00m\n\u001b[0;32m      4\u001b[0m \n\u001b[0;32m      5\u001b[0m \u001b[38;5;66;03m########################################################################\u001b[39;00m\n\u001b[1;32m   (...)\u001b[0m\n\u001b[0;32m     11\u001b[0m \n\u001b[0;32m     12\u001b[0m \u001b[38;5;66;03m# Specify the used network\u001b[39;00m\n\u001b[0;32m     13\u001b[0m model_class \u001b[38;5;241m=\u001b[39m ClassificationNet\n\u001b[1;32m---> 15\u001b[0m best_model, results, best_config \u001b[38;5;241m=\u001b[39m \u001b[43mrandom_search\u001b[49m\u001b[43m(\u001b[49m\n\u001b[0;32m     16\u001b[0m \u001b[43m    \u001b[49m\u001b[43mdataloaders\u001b[49m\u001b[43m[\u001b[49m\u001b[38;5;124;43m'\u001b[39;49m\u001b[38;5;124;43mtrain_small\u001b[39;49m\u001b[38;5;124;43m'\u001b[39;49m\u001b[43m]\u001b[49m\u001b[43m,\u001b[49m\u001b[43m \u001b[49m\u001b[43mdataloaders\u001b[49m\u001b[43m[\u001b[49m\u001b[38;5;124;43m'\u001b[39;49m\u001b[38;5;124;43mval_2000files\u001b[39;49m\u001b[38;5;124;43m'\u001b[39;49m\u001b[43m]\u001b[49m\u001b[43m,\u001b[49m\n\u001b[0;32m     17\u001b[0m \u001b[43m    \u001b[49m\u001b[43mrandom_search_spaces\u001b[49m\u001b[43m \u001b[49m\u001b[38;5;241;43m=\u001b[39;49m\u001b[43m \u001b[49m\u001b[43m{\u001b[49m\n\u001b[0;32m     18\u001b[0m \u001b[38;5;66;43;03m#         \"hidden_size\": ([200, 600], \"int\"),\u001b[39;49;00m\n\u001b[0;32m     19\u001b[0m \u001b[38;5;66;43;03m#         \"num_layer\": ([5, 10], \"int\"),\u001b[39;49;00m\n\u001b[0;32m     20\u001b[0m \u001b[43m        \u001b[49m\u001b[38;5;124;43m\"\u001b[39;49m\u001b[38;5;124;43mlearning_rate\u001b[39;49m\u001b[38;5;124;43m\"\u001b[39;49m\u001b[43m:\u001b[49m\u001b[43m \u001b[49m\u001b[43m(\u001b[49m\u001b[43m[\u001b[49m\u001b[38;5;241;43m1e-2\u001b[39;49m\u001b[43m,\u001b[49m\u001b[43m \u001b[49m\u001b[38;5;241;43m1e-6\u001b[39;49m\u001b[43m]\u001b[49m\u001b[43m,\u001b[49m\u001b[43m \u001b[49m\u001b[38;5;124;43m'\u001b[39;49m\u001b[38;5;124;43mlog\u001b[39;49m\u001b[38;5;124;43m'\u001b[39;49m\u001b[43m)\u001b[49m\u001b[43m,\u001b[49m\n\u001b[0;32m     21\u001b[0m \u001b[43m        \u001b[49m\u001b[38;5;124;43m\"\u001b[39;49m\u001b[38;5;124;43mreg\u001b[39;49m\u001b[38;5;124;43m\"\u001b[39;49m\u001b[43m:\u001b[49m\u001b[43m \u001b[49m\u001b[43m(\u001b[49m\u001b[43m[\u001b[49m\u001b[38;5;241;43m1e-3\u001b[39;49m\u001b[43m,\u001b[49m\u001b[43m \u001b[49m\u001b[38;5;241;43m1e-7\u001b[39;49m\u001b[43m]\u001b[49m\u001b[43m,\u001b[49m\u001b[43m \u001b[49m\u001b[38;5;124;43m\"\u001b[39;49m\u001b[38;5;124;43mlog\u001b[39;49m\u001b[38;5;124;43m\"\u001b[39;49m\u001b[43m)\u001b[49m\u001b[43m,\u001b[49m\n\u001b[0;32m     22\u001b[0m \u001b[43m        \u001b[49m\u001b[38;5;124;43m\"\u001b[39;49m\u001b[38;5;124;43mloss_func\u001b[39;49m\u001b[38;5;124;43m\"\u001b[39;49m\u001b[43m:\u001b[49m\u001b[43m \u001b[49m\u001b[43m(\u001b[49m\u001b[43m[\u001b[49m\u001b[43mCrossEntropyFromLogits\u001b[49m\u001b[43m(\u001b[49m\u001b[43m)\u001b[49m\u001b[43m]\u001b[49m\u001b[43m,\u001b[49m\u001b[43m \u001b[49m\u001b[38;5;124;43m\"\u001b[39;49m\u001b[38;5;124;43mitem\u001b[39;49m\u001b[38;5;124;43m\"\u001b[39;49m\u001b[43m)\u001b[49m\n\u001b[0;32m     23\u001b[0m \u001b[43m    \u001b[49m\u001b[43m}\u001b[49m\u001b[43m,\u001b[49m\n\u001b[0;32m     24\u001b[0m \u001b[43m    \u001b[49m\u001b[43mmodel_class\u001b[49m\u001b[38;5;241;43m=\u001b[39;49m\u001b[43mmodel_class\u001b[49m\u001b[43m,\u001b[49m\n\u001b[0;32m     25\u001b[0m \u001b[43m    \u001b[49m\u001b[43mnum_search\u001b[49m\u001b[43m \u001b[49m\u001b[38;5;241;43m=\u001b[39;49m\u001b[43m \u001b[49m\u001b[38;5;241;43m100\u001b[39;49m\u001b[43m,\u001b[49m\u001b[43m \u001b[49m\u001b[43mepochs\u001b[49m\u001b[38;5;241;43m=\u001b[39;49m\u001b[38;5;241;43m20\u001b[39;49m\u001b[43m,\u001b[49m\u001b[43m \u001b[49m\u001b[43mpatience\u001b[49m\u001b[38;5;241;43m=\u001b[39;49m\u001b[38;5;241;43m5\u001b[39;49m\u001b[43m)\u001b[49m\n",
      "File \u001b[1;32mW:\\Python\\I2DL\\exercise_06\\exercise_code\\hyperparameter_tuning.py:86\u001b[0m, in \u001b[0;36mrandom_search\u001b[1;34m(train_loader, val_loader, random_search_spaces, model_class, num_search, epochs, patience)\u001b[0m\n\u001b[0;32m     83\u001b[0m \u001b[38;5;28;01mfor\u001b[39;00m _ \u001b[38;5;129;01min\u001b[39;00m \u001b[38;5;28mrange\u001b[39m(num_search):\n\u001b[0;32m     84\u001b[0m     configs\u001b[38;5;241m.\u001b[39mappend(random_search_spaces_to_config(random_search_spaces))\n\u001b[1;32m---> 86\u001b[0m \u001b[38;5;28;01mreturn\u001b[39;00m \u001b[43mfindBestConfig\u001b[49m\u001b[43m(\u001b[49m\u001b[43mtrain_loader\u001b[49m\u001b[43m,\u001b[49m\u001b[43m \u001b[49m\u001b[43mval_loader\u001b[49m\u001b[43m,\u001b[49m\u001b[43m \u001b[49m\u001b[43mconfigs\u001b[49m\u001b[43m,\u001b[49m\u001b[43m \u001b[49m\u001b[43mepochs\u001b[49m\u001b[43m,\u001b[49m\u001b[43m \u001b[49m\u001b[43mpatience\u001b[49m\u001b[43m,\u001b[49m\n\u001b[0;32m     87\u001b[0m \u001b[43m                      \u001b[49m\u001b[43mmodel_class\u001b[49m\u001b[43m)\u001b[49m\n",
      "File \u001b[1;32mW:\\Python\\I2DL\\exercise_06\\exercise_code\\hyperparameter_tuning.py:109\u001b[0m, in \u001b[0;36mfindBestConfig\u001b[1;34m(train_loader, val_loader, configs, EPOCHS, PATIENCE, model_class)\u001b[0m\n\u001b[0;32m    107\u001b[0m model \u001b[38;5;241m=\u001b[39m model_class(\u001b[38;5;241m*\u001b[39m\u001b[38;5;241m*\u001b[39mconfigs[i])\n\u001b[0;32m    108\u001b[0m solver \u001b[38;5;241m=\u001b[39m Solver(model, train_loader, val_loader, \u001b[38;5;241m*\u001b[39m\u001b[38;5;241m*\u001b[39mconfigs[i])\n\u001b[1;32m--> 109\u001b[0m \u001b[43msolver\u001b[49m\u001b[38;5;241;43m.\u001b[39;49m\u001b[43mtrain\u001b[49m\u001b[43m(\u001b[49m\u001b[43mepochs\u001b[49m\u001b[38;5;241;43m=\u001b[39;49m\u001b[43mEPOCHS\u001b[49m\u001b[43m,\u001b[49m\u001b[43m \u001b[49m\u001b[43mpatience\u001b[49m\u001b[38;5;241;43m=\u001b[39;49m\u001b[43mPATIENCE\u001b[49m\u001b[43m)\u001b[49m\n\u001b[0;32m    110\u001b[0m results\u001b[38;5;241m.\u001b[39mappend(solver\u001b[38;5;241m.\u001b[39mbest_model_stats)\n\u001b[0;32m    112\u001b[0m \u001b[38;5;28;01mif\u001b[39;00m \u001b[38;5;129;01mnot\u001b[39;00m best_val \u001b[38;5;129;01mor\u001b[39;00m solver\u001b[38;5;241m.\u001b[39mbest_model_stats[\u001b[38;5;124m\"\u001b[39m\u001b[38;5;124mval_loss\u001b[39m\u001b[38;5;124m\"\u001b[39m] \u001b[38;5;241m<\u001b[39m best_val:\n",
      "File \u001b[1;32mW:\\Python\\I2DL\\exercise_06\\exercise_code\\solver.py:145\u001b[0m, in \u001b[0;36mSolver.train\u001b[1;34m(self, epochs, patience)\u001b[0m\n\u001b[0;32m    143\u001b[0m \u001b[38;5;66;03m# Update the model parameters.\u001b[39;00m\n\u001b[0;32m    144\u001b[0m validate \u001b[38;5;241m=\u001b[39m t \u001b[38;5;241m==\u001b[39m \u001b[38;5;241m0\u001b[39m\n\u001b[1;32m--> 145\u001b[0m train_loss \u001b[38;5;241m=\u001b[39m \u001b[38;5;28;43mself\u001b[39;49m\u001b[38;5;241;43m.\u001b[39;49m\u001b[43m_step\u001b[49m\u001b[43m(\u001b[49m\u001b[43mX\u001b[49m\u001b[43m,\u001b[49m\u001b[43m \u001b[49m\u001b[43my\u001b[49m\u001b[43m,\u001b[49m\u001b[43m \u001b[49m\u001b[43mvalidation\u001b[49m\u001b[38;5;241;43m=\u001b[39;49m\u001b[43mvalidate\u001b[49m\u001b[43m)\u001b[49m\n\u001b[0;32m    147\u001b[0m \u001b[38;5;28mself\u001b[39m\u001b[38;5;241m.\u001b[39mtrain_batch_loss\u001b[38;5;241m.\u001b[39mappend(train_loss)\n\u001b[0;32m    148\u001b[0m train_epoch_loss \u001b[38;5;241m+\u001b[39m\u001b[38;5;241m=\u001b[39m train_loss\n",
      "File \u001b[1;32mW:\\Python\\I2DL\\exercise_06\\exercise_code\\solver.py:119\u001b[0m, in \u001b[0;36mSolver._step\u001b[1;34m(self, X, y, validation)\u001b[0m\n\u001b[0;32m    117\u001b[0m \u001b[38;5;28mself\u001b[39m\u001b[38;5;241m.\u001b[39mopt\u001b[38;5;241m.\u001b[39mbackward(y_pred, y)\n\u001b[0;32m    118\u001b[0m \u001b[38;5;66;03m# Update weights\u001b[39;00m\n\u001b[1;32m--> 119\u001b[0m \u001b[38;5;28;43mself\u001b[39;49m\u001b[38;5;241;43m.\u001b[39;49m\u001b[43mopt\u001b[49m\u001b[38;5;241;43m.\u001b[39;49m\u001b[43mstep\u001b[49m\u001b[43m(\u001b[49m\u001b[43m)\u001b[49m\n\u001b[0;32m    121\u001b[0m \u001b[38;5;66;03m# If it was a training step, we need to count operations for\u001b[39;00m\n\u001b[0;32m    122\u001b[0m \u001b[38;5;66;03m# backpropagation as well\u001b[39;00m\n\u001b[0;32m    123\u001b[0m \u001b[38;5;28mself\u001b[39m\u001b[38;5;241m.\u001b[39mnum_operation \u001b[38;5;241m+\u001b[39m\u001b[38;5;241m=\u001b[39m \u001b[38;5;28mself\u001b[39m\u001b[38;5;241m.\u001b[39mmodel\u001b[38;5;241m.\u001b[39mnum_operation\n",
      "File \u001b[1;32mW:\\Python\\I2DL\\exercise_06\\exercise_code\\networks\\optimizer.py:238\u001b[0m, in \u001b[0;36mAdam.step\u001b[1;34m(self)\u001b[0m\n\u001b[0;32m    235\u001b[0m config \u001b[38;5;241m=\u001b[39m \u001b[38;5;28mself\u001b[39m\u001b[38;5;241m.\u001b[39moptim_configs[name]\n\u001b[0;32m    237\u001b[0m \u001b[38;5;66;03m# Update the parameter\u001b[39;00m\n\u001b[1;32m--> 238\u001b[0m w_updated, config \u001b[38;5;241m=\u001b[39m \u001b[38;5;28;43mself\u001b[39;49m\u001b[38;5;241;43m.\u001b[39;49m\u001b[43m_update\u001b[49m\u001b[43m(\u001b[49m\u001b[43mw\u001b[49m\u001b[43m,\u001b[49m\u001b[43m \u001b[49m\u001b[43mdw\u001b[49m\u001b[43m,\u001b[49m\u001b[43m \u001b[49m\u001b[43mconfig\u001b[49m\u001b[43m,\u001b[49m\u001b[43m \u001b[49m\u001b[43mlr\u001b[49m\u001b[38;5;241;43m=\u001b[39;49m\u001b[38;5;28;43mself\u001b[39;49m\u001b[38;5;241;43m.\u001b[39;49m\u001b[43mlr\u001b[49m\u001b[43m)\u001b[49m\n\u001b[0;32m    239\u001b[0m \u001b[38;5;28mself\u001b[39m\u001b[38;5;241m.\u001b[39mmodel\u001b[38;5;241m.\u001b[39mparams[name] \u001b[38;5;241m=\u001b[39m w_updated\n\u001b[0;32m    240\u001b[0m \u001b[38;5;28mself\u001b[39m\u001b[38;5;241m.\u001b[39moptim_configs[name] \u001b[38;5;241m=\u001b[39m config\n",
      "File \u001b[1;32mW:\\Python\\I2DL\\exercise_06\\exercise_code\\networks\\optimizer.py:193\u001b[0m, in \u001b[0;36mAdam._update\u001b[1;34m(self, w, dw, config, lr)\u001b[0m\n\u001b[0;32m    191\u001b[0m config\u001b[38;5;241m.\u001b[39msetdefault(\u001b[38;5;124m'\u001b[39m\u001b[38;5;124mbeta2\u001b[39m\u001b[38;5;124m'\u001b[39m, \u001b[38;5;241m0.999\u001b[39m)\n\u001b[0;32m    192\u001b[0m config\u001b[38;5;241m.\u001b[39msetdefault(\u001b[38;5;124m'\u001b[39m\u001b[38;5;124mepsilon\u001b[39m\u001b[38;5;124m'\u001b[39m, \u001b[38;5;241m1e-4\u001b[39m)\n\u001b[1;32m--> 193\u001b[0m config\u001b[38;5;241m.\u001b[39msetdefault(\u001b[38;5;124m'\u001b[39m\u001b[38;5;124mm\u001b[39m\u001b[38;5;124m'\u001b[39m, \u001b[43mnp\u001b[49m\u001b[38;5;241;43m.\u001b[39;49m\u001b[43mzeros_like\u001b[49m\u001b[43m(\u001b[49m\u001b[43mw\u001b[49m\u001b[43m)\u001b[49m)\n\u001b[0;32m    194\u001b[0m config\u001b[38;5;241m.\u001b[39msetdefault(\u001b[38;5;124m'\u001b[39m\u001b[38;5;124mv\u001b[39m\u001b[38;5;124m'\u001b[39m, np\u001b[38;5;241m.\u001b[39mzeros_like(w))\n\u001b[0;32m    195\u001b[0m config\u001b[38;5;241m.\u001b[39msetdefault(\u001b[38;5;124m'\u001b[39m\u001b[38;5;124mt\u001b[39m\u001b[38;5;124m'\u001b[39m, \u001b[38;5;241m0\u001b[39m)\n",
      "File \u001b[1;32m<__array_function__ internals>:5\u001b[0m, in \u001b[0;36mzeros_like\u001b[1;34m(*args, **kwargs)\u001b[0m\n",
      "File \u001b[1;32mE:\\Anaconda\\lib\\site-packages\\numpy\\core\\numeric.py:141\u001b[0m, in \u001b[0;36mzeros_like\u001b[1;34m(a, dtype, order, subok, shape)\u001b[0m\n\u001b[0;32m    139\u001b[0m \u001b[38;5;66;03m# needed instead of a 0 to get same result as zeros for for string dtypes\u001b[39;00m\n\u001b[0;32m    140\u001b[0m z \u001b[38;5;241m=\u001b[39m zeros(\u001b[38;5;241m1\u001b[39m, dtype\u001b[38;5;241m=\u001b[39mres\u001b[38;5;241m.\u001b[39mdtype)\n\u001b[1;32m--> 141\u001b[0m \u001b[43mmultiarray\u001b[49m\u001b[38;5;241;43m.\u001b[39;49m\u001b[43mcopyto\u001b[49m\u001b[43m(\u001b[49m\u001b[43mres\u001b[49m\u001b[43m,\u001b[49m\u001b[43m \u001b[49m\u001b[43mz\u001b[49m\u001b[43m,\u001b[49m\u001b[43m \u001b[49m\u001b[43mcasting\u001b[49m\u001b[38;5;241;43m=\u001b[39;49m\u001b[38;5;124;43m'\u001b[39;49m\u001b[38;5;124;43munsafe\u001b[39;49m\u001b[38;5;124;43m'\u001b[39;49m\u001b[43m)\u001b[49m\n\u001b[0;32m    142\u001b[0m \u001b[38;5;28;01mreturn\u001b[39;00m res\n",
      "File \u001b[1;32m<__array_function__ internals>:5\u001b[0m, in \u001b[0;36mcopyto\u001b[1;34m(*args, **kwargs)\u001b[0m\n",
      "\u001b[1;31mKeyboardInterrupt\u001b[0m: "
     ]
    }
   ],
   "source": [
    "from exercise_code.hyperparameter_tuning import random_search\n",
    "from exercise_code.networks import MyOwnNetwork\n",
    "#best_model = MyOwnNetwork()\n",
    "\n",
    "########################################################################\n",
    "# TODO:                                                                #\n",
    "# Implement your own neural network and find suitable hyperparameters  #\n",
    "# Be sure to edit the MyOwnNetwork class in the following code snippet #\n",
    "# to upload the correct model!                                         #\n",
    "########################################################################\n",
    "\n",
    "# Specify the used network\n",
    "model_class = ClassificationNet\n",
    "\n",
    "best_model, results, best_config = random_search(\n",
    "    dataloaders['train_small'], dataloaders['val_2000files'],\n",
    "    random_search_spaces = {\n",
    "#         \"hidden_size\": ([200, 600], \"int\"),\n",
    "#         \"num_layer\": ([5, 10], \"int\"),\n",
    "        \"learning_rate\": ([1e-2, 1e-6], 'log'),\n",
    "        \"reg\": ([1e-3, 1e-7], \"log\"),\n",
    "        \"loss_func\": ([CrossEntropyFromLogits()], \"item\")\n",
    "    },\n",
    "    model_class=model_class,\n",
    "    num_search = 100, epochs=20, patience=5)\n",
    "\n",
    "########################################################################\n",
    "#                           END OF YOUR CODE                           #\n",
    "########################################################################"
   ]
  },
  {
   "cell_type": "code",
   "execution_count": 24,
   "metadata": {},
   "outputs": [],
   "source": [
    "# val_loss = []\n",
    "# for i in range(len(results)):\n",
    "#     result = results[i]\n",
    "#     loss = result[1]\n",
    "#     val_loss.append(loss['val_loss'])\n",
    "# best_result_index = np.argmin(val_loss)\n",
    "# best_result = results[best_result_index]\n",
    "# best_result = best_config\n",
    "best_result = {'learning_rate': 0.0006515989658769343,\n",
    " 'reg': 1.4852654331108667e-06,\n",
    " 'loss_func': []}"
   ]
  },
  {
   "cell_type": "markdown",
   "metadata": {},
   "source": [
    "## Fintune params"
   ]
  },
  {
   "cell_type": "code",
   "execution_count": 26,
   "metadata": {},
   "outputs": [],
   "source": [
    "# Make a new data loader with a our num_samples training image\n",
    "num_samples = 5000\n",
    "overfit_dataset = DATASET(\n",
    "    mode='train',\n",
    "    root=cifar_root, \n",
    "    download_url=download_url,\n",
    "    transform=compose_transform,\n",
    "    limit_files=num_samples\n",
    ")\n",
    "dataloaders['train_medium'] = DataLoader(\n",
    "    dataset=overfit_dataset,\n",
    "    batch_size=batch_size,\n",
    "    shuffle=True,\n",
    "    drop_last=False,\n",
    ")"
   ]
  },
  {
   "cell_type": "code",
   "execution_count": 27,
   "metadata": {},
   "outputs": [
    {
     "name": "stdout",
     "output_type": "stream",
     "text": [
      "\n",
      "Evaluating Config #1 [of 40]:\n",
      " {'hidden_size': 300, 'num_layer': 6, 'learning_rate': 0.0006515989658769343, 'reg': 1.4852654331108667e-06, 'loss_func': <exercise_code.networks.loss.CrossEntropyFromLogits object at 0x000001FFE2F7DDF0>}\n",
      "(Epoch 1 / 20) train loss: 2.302648; val loss: 2.302569\n",
      "(Epoch 2 / 20) train loss: 2.303537; val loss: 2.302435\n",
      "(Epoch 3 / 20) train loss: 2.302436; val loss: 2.301232\n",
      "(Epoch 4 / 20) train loss: 2.302174; val loss: 2.301030\n",
      "(Epoch 5 / 20) train loss: 2.302107; val loss: 2.300644\n",
      "(Epoch 6 / 20) train loss: 2.302077; val loss: 2.300871\n",
      "(Epoch 7 / 20) train loss: 2.302029; val loss: 2.300886\n",
      "(Epoch 8 / 20) train loss: 2.302043; val loss: 2.300763\n",
      "(Epoch 9 / 20) train loss: 2.302041; val loss: 2.300877\n",
      "(Epoch 10 / 20) train loss: 2.302013; val loss: 2.300892\n",
      "Stopping early at epoch 9!\n",
      "\n",
      "Evaluating Config #2 [of 40]:\n",
      " {'hidden_size': 260, 'num_layer': 6, 'learning_rate': 0.0006515989658769343, 'reg': 1.4852654331108667e-06, 'loss_func': <exercise_code.networks.loss.CrossEntropyFromLogits object at 0x000001FFE2F7DDF0>}\n",
      "(Epoch 1 / 20) train loss: 2.302609; val loss: 2.302363\n",
      "(Epoch 2 / 20) train loss: 2.304212; val loss: 2.300522\n",
      "(Epoch 3 / 20) train loss: 2.302273; val loss: 2.300749\n",
      "(Epoch 4 / 20) train loss: 2.302166; val loss: 2.300789\n",
      "(Epoch 5 / 20) train loss: 2.302061; val loss: 2.300881\n",
      "(Epoch 6 / 20) train loss: 2.302002; val loss: 2.300561\n",
      "(Epoch 7 / 20) train loss: 2.302030; val loss: 2.300477\n",
      "(Epoch 8 / 20) train loss: 2.302027; val loss: 2.300433\n",
      "(Epoch 9 / 20) train loss: 2.301971; val loss: 2.300546\n",
      "(Epoch 10 / 20) train loss: 2.302004; val loss: 2.300496\n",
      "(Epoch 11 / 20) train loss: 2.301980; val loss: 2.300462\n",
      "(Epoch 12 / 20) train loss: 2.301926; val loss: 2.300340\n",
      "(Epoch 13 / 20) train loss: 2.301761; val loss: 2.299773\n",
      "(Epoch 14 / 20) train loss: 2.301544; val loss: 2.299418\n",
      "(Epoch 15 / 20) train loss: 2.300651; val loss: 2.298124\n",
      "(Epoch 16 / 20) train loss: 2.299386; val loss: 2.296215\n",
      "(Epoch 17 / 20) train loss: 2.295665; val loss: 2.290513\n",
      "(Epoch 18 / 20) train loss: 2.291015; val loss: 2.278847\n",
      "(Epoch 19 / 20) train loss: 2.238639; val loss: 2.158052\n",
      "(Epoch 20 / 20) train loss: 2.142642; val loss: 2.120931\n",
      "\n",
      "Evaluating Config #3 [of 40]:\n",
      " {'hidden_size': 118, 'num_layer': 5, 'learning_rate': 0.0006515989658769343, 'reg': 1.4852654331108667e-06, 'loss_func': <exercise_code.networks.loss.CrossEntropyFromLogits object at 0x000001FFE2F7DDF0>}\n",
      "(Epoch 1 / 20) train loss: 2.302579; val loss: 2.302892\n",
      "(Epoch 2 / 20) train loss: 2.302693; val loss: 2.297199\n",
      "(Epoch 3 / 20) train loss: 2.288620; val loss: 2.273867\n",
      "(Epoch 4 / 20) train loss: 2.244312; val loss: 2.210184\n",
      "(Epoch 5 / 20) train loss: 2.168962; val loss: 2.135832\n",
      "(Epoch 6 / 20) train loss: 2.109467; val loss: 2.085912\n",
      "(Epoch 7 / 20) train loss: 2.080442; val loss: 2.076784\n",
      "(Epoch 8 / 20) train loss: 2.056576; val loss: 2.070447\n",
      "(Epoch 9 / 20) train loss: 2.043359; val loss: 2.071341\n",
      "(Epoch 10 / 20) train loss: 2.034212; val loss: 2.063232\n",
      "(Epoch 11 / 20) train loss: 2.016872; val loss: 2.044027\n",
      "(Epoch 12 / 20) train loss: 1.997472; val loss: 2.055295\n",
      "(Epoch 13 / 20) train loss: 1.992017; val loss: 2.049771\n",
      "(Epoch 14 / 20) train loss: 1.982297; val loss: 2.060429\n",
      "(Epoch 15 / 20) train loss: 1.972193; val loss: 2.059023\n",
      "(Epoch 16 / 20) train loss: 1.967888; val loss: 2.085996\n",
      "Stopping early at epoch 15!\n",
      "\n",
      "Evaluating Config #4 [of 40]:\n",
      " {'hidden_size': 401, 'num_layer': 6, 'learning_rate': 0.0006515989658769343, 'reg': 1.4852654331108667e-06, 'loss_func': <exercise_code.networks.loss.CrossEntropyFromLogits object at 0x000001FFE2F7DDF0>}\n",
      "(Epoch 1 / 20) train loss: 2.302663; val loss: 2.302630\n",
      "(Epoch 2 / 20) train loss: 2.304778; val loss: 2.301399\n",
      "(Epoch 3 / 20) train loss: 2.302288; val loss: 2.300856\n",
      "(Epoch 4 / 20) train loss: 2.302159; val loss: 2.300788\n",
      "(Epoch 5 / 20) train loss: 2.302041; val loss: 2.300731\n",
      "(Epoch 6 / 20) train loss: 2.302043; val loss: 2.300335\n",
      "(Epoch 7 / 20) train loss: 2.302057; val loss: 2.300423\n",
      "(Epoch 8 / 20) train loss: 2.302047; val loss: 2.300541\n",
      "(Epoch 9 / 20) train loss: 2.302007; val loss: 2.300557\n",
      "(Epoch 10 / 20) train loss: 2.301947; val loss: 2.300648\n",
      "(Epoch 11 / 20) train loss: 2.302031; val loss: 2.300571\n",
      "Stopping early at epoch 10!\n",
      "\n",
      "Evaluating Config #5 [of 40]:\n",
      " {'hidden_size': 417, 'num_layer': 4, 'learning_rate': 0.0006515989658769343, 'reg': 1.4852654331108667e-06, 'loss_func': <exercise_code.networks.loss.CrossEntropyFromLogits object at 0x000001FFE2F7DDF0>}\n",
      "(Epoch 1 / 20) train loss: 2.302908; val loss: 2.302856\n",
      "(Epoch 2 / 20) train loss: 2.257869; val loss: 2.211734\n",
      "(Epoch 3 / 20) train loss: 2.188290; val loss: 2.172133\n",
      "(Epoch 4 / 20) train loss: 2.155446; val loss: 2.149770\n",
      "(Epoch 5 / 20) train loss: 2.135006; val loss: 2.137715\n",
      "(Epoch 6 / 20) train loss: 2.117490; val loss: 2.140335\n",
      "(Epoch 7 / 20) train loss: 2.101320; val loss: 2.217029\n",
      "(Epoch 8 / 20) train loss: 2.086197; val loss: 2.167125\n",
      "(Epoch 9 / 20) train loss: 2.069116; val loss: 2.172882\n",
      "(Epoch 10 / 20) train loss: 2.052950; val loss: 2.152556\n",
      "Stopping early at epoch 9!\n",
      "\n",
      "Evaluating Config #6 [of 40]:\n",
      " {'hidden_size': 257, 'num_layer': 5, 'learning_rate': 0.0006515989658769343, 'reg': 1.4852654331108667e-06, 'loss_func': <exercise_code.networks.loss.CrossEntropyFromLogits object at 0x000001FFE2F7DDF0>}\n",
      "(Epoch 1 / 20) train loss: 2.302604; val loss: 2.302902\n",
      "(Epoch 2 / 20) train loss: 2.303406; val loss: 2.300874\n",
      "(Epoch 3 / 20) train loss: 2.294895; val loss: 2.291186\n",
      "(Epoch 4 / 20) train loss: 2.266234; val loss: 2.229634\n",
      "(Epoch 5 / 20) train loss: 2.196146; val loss: 2.133039\n",
      "(Epoch 6 / 20) train loss: 2.129229; val loss: 2.088257\n",
      "(Epoch 7 / 20) train loss: 2.094436; val loss: 2.101655\n",
      "(Epoch 8 / 20) train loss: 2.072034; val loss: 2.063903\n",
      "(Epoch 9 / 20) train loss: 2.050356; val loss: 2.085160\n",
      "(Epoch 10 / 20) train loss: 2.031632; val loss: 2.064355\n",
      "(Epoch 11 / 20) train loss: 2.012025; val loss: 2.106932\n",
      "(Epoch 12 / 20) train loss: 2.003276; val loss: 2.066560\n",
      "(Epoch 13 / 20) train loss: 1.988493; val loss: 2.087064\n",
      "Stopping early at epoch 12!\n",
      "\n",
      "Evaluating Config #7 [of 40]:\n",
      " {'hidden_size': 117, 'num_layer': 5, 'learning_rate': 0.0006515989658769343, 'reg': 1.4852654331108667e-06, 'loss_func': <exercise_code.networks.loss.CrossEntropyFromLogits object at 0x000001FFE2F7DDF0>}\n",
      "(Epoch 1 / 20) train loss: 2.302463; val loss: 2.302537\n",
      "(Epoch 2 / 20) train loss: 2.304499; val loss: 2.300302\n",
      "(Epoch 3 / 20) train loss: 2.295509; val loss: 2.290069\n",
      "(Epoch 4 / 20) train loss: 2.267420; val loss: 2.240630\n",
      "(Epoch 5 / 20) train loss: 2.203471; val loss: 2.177265\n",
      "(Epoch 6 / 20) train loss: 2.135682; val loss: 2.120322\n",
      "(Epoch 7 / 20) train loss: 2.092612; val loss: 2.093560\n",
      "(Epoch 8 / 20) train loss: 2.067342; val loss: 2.080824\n",
      "(Epoch 9 / 20) train loss: 2.052064; val loss: 2.063115\n",
      "(Epoch 10 / 20) train loss: 2.040527; val loss: 2.057274\n",
      "(Epoch 11 / 20) train loss: 2.019977; val loss: 2.057983\n",
      "(Epoch 12 / 20) train loss: 2.007393; val loss: 2.076885\n",
      "(Epoch 13 / 20) train loss: 1.998627; val loss: 2.064172\n",
      "(Epoch 14 / 20) train loss: 1.986980; val loss: 2.075149\n",
      "(Epoch 15 / 20) train loss: 1.979508; val loss: 2.066653\n",
      "Stopping early at epoch 14!\n",
      "\n",
      "Evaluating Config #8 [of 40]:\n",
      " {'hidden_size': 109, 'num_layer': 8, 'learning_rate': 0.0006515989658769343, 'reg': 1.4852654331108667e-06, 'loss_func': <exercise_code.networks.loss.CrossEntropyFromLogits object at 0x000001FFE2F7DDF0>}\n",
      "(Epoch 1 / 20) train loss: 2.302633; val loss: 2.302646\n",
      "(Epoch 2 / 20) train loss: 2.304647; val loss: 2.301302\n",
      "(Epoch 3 / 20) train loss: 2.302379; val loss: 2.301033\n",
      "(Epoch 4 / 20) train loss: 2.302186; val loss: 2.300772\n",
      "(Epoch 5 / 20) train loss: 2.302086; val loss: 2.300748\n",
      "(Epoch 6 / 20) train loss: 2.302035; val loss: 2.300756\n",
      "(Epoch 7 / 20) train loss: 2.301997; val loss: 2.300827\n",
      "(Epoch 8 / 20) train loss: 2.302020; val loss: 2.300825\n",
      "(Epoch 9 / 20) train loss: 2.302027; val loss: 2.300872\n",
      "(Epoch 10 / 20) train loss: 2.301994; val loss: 2.300779\n",
      "Stopping early at epoch 9!\n",
      "\n",
      "Evaluating Config #9 [of 40]:\n",
      " {'hidden_size': 347, 'num_layer': 3, 'learning_rate': 0.0006515989658769343, 'reg': 1.4852654331108667e-06, 'loss_func': <exercise_code.networks.loss.CrossEntropyFromLogits object at 0x000001FFE2F7DDF0>}\n"
     ]
    },
    {
     "name": "stdout",
     "output_type": "stream",
     "text": [
      "(Epoch 1 / 20) train loss: 2.302370; val loss: 2.302267\n",
      "(Epoch 2 / 20) train loss: 2.220663; val loss: 2.172755\n",
      "(Epoch 3 / 20) train loss: 2.097670; val loss: 1.994169\n",
      "(Epoch 4 / 20) train loss: 1.908306; val loss: 1.893549\n",
      "(Epoch 5 / 20) train loss: 1.805775; val loss: 1.835005\n",
      "(Epoch 6 / 20) train loss: 1.731737; val loss: 1.831780\n",
      "(Epoch 7 / 20) train loss: 1.653697; val loss: 1.795280\n",
      "(Epoch 8 / 20) train loss: 1.573407; val loss: 1.786267\n",
      "(Epoch 9 / 20) train loss: 1.505272; val loss: 1.777125\n",
      "(Epoch 10 / 20) train loss: 1.427157; val loss: 1.792591\n",
      "(Epoch 11 / 20) train loss: 1.354594; val loss: 1.788352\n",
      "(Epoch 12 / 20) train loss: 1.275403; val loss: 1.820746\n",
      "(Epoch 13 / 20) train loss: 1.207103; val loss: 1.849367\n",
      "(Epoch 14 / 20) train loss: 1.166990; val loss: 1.848975\n",
      "Stopping early at epoch 13!\n",
      "\n",
      "Evaluating Config #10 [of 40]:\n",
      " {'hidden_size': 305, 'num_layer': 3, 'learning_rate': 0.0006515989658769343, 'reg': 1.4852654331108667e-06, 'loss_func': <exercise_code.networks.loss.CrossEntropyFromLogits object at 0x000001FFE2F7DDF0>}\n",
      "(Epoch 1 / 20) train loss: 2.302499; val loss: 2.303005\n",
      "(Epoch 2 / 20) train loss: 2.225262; val loss: 2.185633\n",
      "(Epoch 3 / 20) train loss: 2.143917; val loss: 2.112297\n",
      "(Epoch 4 / 20) train loss: 1.988408; val loss: 1.951087\n",
      "(Epoch 5 / 20) train loss: 1.851995; val loss: 1.870622\n",
      "(Epoch 6 / 20) train loss: 1.770256; val loss: 1.839282\n",
      "(Epoch 7 / 20) train loss: 1.688525; val loss: 1.793364\n",
      "(Epoch 8 / 20) train loss: 1.610676; val loss: 1.803038\n",
      "(Epoch 9 / 20) train loss: 1.526222; val loss: 1.815380\n",
      "(Epoch 10 / 20) train loss: 1.478528; val loss: 1.838594\n",
      "(Epoch 11 / 20) train loss: 1.403373; val loss: 1.799542\n",
      "(Epoch 12 / 20) train loss: 1.340506; val loss: 1.815353\n",
      "Stopping early at epoch 11!\n",
      "\n",
      "Evaluating Config #11 [of 40]:\n",
      " {'hidden_size': 104, 'num_layer': 8, 'learning_rate': 0.0006515989658769343, 'reg': 1.4852654331108667e-06, 'loss_func': <exercise_code.networks.loss.CrossEntropyFromLogits object at 0x000001FFE2F7DDF0>}\n",
      "(Epoch 1 / 20) train loss: 2.302594; val loss: 2.302786\n",
      "(Epoch 2 / 20) train loss: 2.304353; val loss: 2.301195\n",
      "(Epoch 3 / 20) train loss: 2.302496; val loss: 2.300588\n",
      "(Epoch 4 / 20) train loss: 2.302245; val loss: 2.301052\n",
      "(Epoch 5 / 20) train loss: 2.302152; val loss: 2.301048\n",
      "(Epoch 6 / 20) train loss: 2.302075; val loss: 2.301182\n",
      "(Epoch 7 / 20) train loss: 2.301924; val loss: 2.300719\n",
      "(Epoch 8 / 20) train loss: 2.301990; val loss: 2.300852\n",
      "Stopping early at epoch 7!\n",
      "\n",
      "Evaluating Config #12 [of 40]:\n",
      " {'hidden_size': 163, 'num_layer': 2, 'learning_rate': 0.0006515989658769343, 'reg': 1.4852654331108667e-06, 'loss_func': <exercise_code.networks.loss.CrossEntropyFromLogits object at 0x000001FFE2F7DDF0>}\n",
      "(Epoch 1 / 20) train loss: 2.302605; val loss: 2.303050\n",
      "(Epoch 2 / 20) train loss: 2.038770; val loss: 1.932796\n",
      "(Epoch 3 / 20) train loss: 1.858743; val loss: 1.890897\n",
      "(Epoch 4 / 20) train loss: 1.775070; val loss: 1.847578\n",
      "(Epoch 5 / 20) train loss: 1.707429; val loss: 1.853007\n",
      "(Epoch 6 / 20) train loss: 1.652029; val loss: 1.832784\n",
      "(Epoch 7 / 20) train loss: 1.597189; val loss: 1.857694\n",
      "(Epoch 8 / 20) train loss: 1.540276; val loss: 1.850461\n",
      "(Epoch 9 / 20) train loss: 1.485258; val loss: 1.826682\n",
      "(Epoch 10 / 20) train loss: 1.435670; val loss: 1.873580\n",
      "(Epoch 11 / 20) train loss: 1.386459; val loss: 1.849080\n",
      "(Epoch 12 / 20) train loss: 1.328454; val loss: 1.888270\n",
      "(Epoch 13 / 20) train loss: 1.285891; val loss: 1.868473\n",
      "(Epoch 14 / 20) train loss: 1.239581; val loss: 1.885050\n",
      "Stopping early at epoch 13!\n",
      "\n",
      "Evaluating Config #13 [of 40]:\n",
      " {'hidden_size': 121, 'num_layer': 5, 'learning_rate': 0.0006515989658769343, 'reg': 1.4852654331108667e-06, 'loss_func': <exercise_code.networks.loss.CrossEntropyFromLogits object at 0x000001FFE2F7DDF0>}\n",
      "(Epoch 1 / 20) train loss: 2.302561; val loss: 2.302771\n",
      "(Epoch 2 / 20) train loss: 2.304314; val loss: 2.301136\n",
      "(Epoch 3 / 20) train loss: 2.298926; val loss: 2.290993\n",
      "(Epoch 4 / 20) train loss: 2.275977; val loss: 2.249168\n",
      "(Epoch 5 / 20) train loss: 2.213827; val loss: 2.174904\n",
      "(Epoch 6 / 20) train loss: 2.141724; val loss: 2.116623\n",
      "(Epoch 7 / 20) train loss: 2.097222; val loss: 2.086323\n",
      "(Epoch 8 / 20) train loss: 2.068225; val loss: 2.068077\n",
      "(Epoch 9 / 20) train loss: 2.047570; val loss: 2.060612\n",
      "(Epoch 10 / 20) train loss: 2.036564; val loss: 2.058828\n",
      "(Epoch 11 / 20) train loss: 2.023098; val loss: 2.066440\n",
      "(Epoch 12 / 20) train loss: 2.013451; val loss: 2.059554\n",
      "(Epoch 13 / 20) train loss: 1.998142; val loss: 2.046341\n",
      "(Epoch 14 / 20) train loss: 1.993534; val loss: 2.063432\n",
      "(Epoch 15 / 20) train loss: 1.986559; val loss: 2.082363\n",
      "(Epoch 16 / 20) train loss: 1.966178; val loss: 2.074873\n",
      "(Epoch 17 / 20) train loss: 1.963889; val loss: 2.082377\n",
      "(Epoch 18 / 20) train loss: 1.953538; val loss: 2.105138\n",
      "Stopping early at epoch 17!\n",
      "\n",
      "Evaluating Config #14 [of 40]:\n",
      " {'hidden_size': 243, 'num_layer': 5, 'learning_rate': 0.0006515989658769343, 'reg': 1.4852654331108667e-06, 'loss_func': <exercise_code.networks.loss.CrossEntropyFromLogits object at 0x000001FFE2F7DDF0>}\n",
      "(Epoch 1 / 20) train loss: 2.302592; val loss: 2.302525\n",
      "(Epoch 2 / 20) train loss: 2.303980; val loss: 2.299516\n",
      "(Epoch 3 / 20) train loss: 2.297562; val loss: 2.290070\n",
      "(Epoch 4 / 20) train loss: 2.279806; val loss: 2.260611\n",
      "(Epoch 5 / 20) train loss: 2.234142; val loss: 2.203483\n",
      "(Epoch 6 / 20) train loss: 2.176286; val loss: 2.137065\n",
      "(Epoch 7 / 20) train loss: 2.145632; val loss: 2.138374\n",
      "(Epoch 8 / 20) train loss: 2.123484; val loss: 2.164951\n",
      "(Epoch 9 / 20) train loss: 2.103002; val loss: 2.106937\n",
      "(Epoch 10 / 20) train loss: 2.075919; val loss: 2.130106\n",
      "(Epoch 11 / 20) train loss: 2.063611; val loss: 2.079404\n",
      "(Epoch 12 / 20) train loss: 2.041565; val loss: 2.100751\n",
      "(Epoch 13 / 20) train loss: 2.025559; val loss: 2.091784\n",
      "(Epoch 14 / 20) train loss: 1.999681; val loss: 2.189008\n",
      "(Epoch 15 / 20) train loss: 1.974942; val loss: 2.084986\n",
      "(Epoch 16 / 20) train loss: 1.958146; val loss: 2.271217\n",
      "Stopping early at epoch 15!\n",
      "\n",
      "Evaluating Config #15 [of 40]:\n",
      " {'hidden_size': 489, 'num_layer': 2, 'learning_rate': 0.0006515989658769343, 'reg': 1.4852654331108667e-06, 'loss_func': <exercise_code.networks.loss.CrossEntropyFromLogits object at 0x000001FFE2F7DDF0>}\n",
      "(Epoch 1 / 20) train loss: 2.302558; val loss: 2.302406\n",
      "(Epoch 2 / 20) train loss: 2.009025; val loss: 1.924776\n",
      "(Epoch 3 / 20) train loss: 1.829265; val loss: 1.877647\n",
      "(Epoch 4 / 20) train loss: 1.738275; val loss: 1.854540\n",
      "(Epoch 5 / 20) train loss: 1.641973; val loss: 1.882360\n",
      "(Epoch 6 / 20) train loss: 1.557042; val loss: 1.882091\n",
      "(Epoch 7 / 20) train loss: 1.469970; val loss: 1.865986\n",
      "(Epoch 8 / 20) train loss: 1.382952; val loss: 1.876869\n",
      "(Epoch 9 / 20) train loss: 1.294505; val loss: 1.902720\n",
      "Stopping early at epoch 8!\n",
      "\n",
      "Evaluating Config #16 [of 40]:\n",
      " {'hidden_size': 304, 'num_layer': 4, 'learning_rate': 0.0006515989658769343, 'reg': 1.4852654331108667e-06, 'loss_func': <exercise_code.networks.loss.CrossEntropyFromLogits object at 0x000001FFE2F7DDF0>}\n",
      "(Epoch 1 / 20) train loss: 2.302650; val loss: 2.302978\n",
      "(Epoch 2 / 20) train loss: 2.265436; val loss: 2.219178\n",
      "(Epoch 3 / 20) train loss: 2.196035; val loss: 2.190665\n",
      "(Epoch 4 / 20) train loss: 2.158894; val loss: 2.199011\n",
      "(Epoch 5 / 20) train loss: 2.136586; val loss: 2.137866\n",
      "(Epoch 6 / 20) train loss: 2.113268; val loss: 2.151779\n",
      "(Epoch 7 / 20) train loss: 2.098303; val loss: 2.109456\n",
      "(Epoch 8 / 20) train loss: 2.085943; val loss: 2.130394\n",
      "(Epoch 9 / 20) train loss: 2.065524; val loss: 2.133856\n",
      "(Epoch 10 / 20) train loss: 2.048959; val loss: 2.176497\n",
      "(Epoch 11 / 20) train loss: 2.038425; val loss: 2.118851\n",
      "(Epoch 12 / 20) train loss: 2.015096; val loss: 2.110030\n",
      "Stopping early at epoch 11!\n",
      "\n",
      "Evaluating Config #17 [of 40]:\n",
      " {'hidden_size': 356, 'num_layer': 8, 'learning_rate': 0.0006515989658769343, 'reg': 1.4852654331108667e-06, 'loss_func': <exercise_code.networks.loss.CrossEntropyFromLogits object at 0x000001FFE2F7DDF0>}\n",
      "(Epoch 1 / 20) train loss: 2.302430; val loss: 2.302638\n",
      "(Epoch 2 / 20) train loss: 2.304550; val loss: 2.301153\n",
      "(Epoch 3 / 20) train loss: 2.302218; val loss: 2.300945\n",
      "(Epoch 4 / 20) train loss: 2.302140; val loss: 2.300631\n",
      "(Epoch 5 / 20) train loss: 2.302081; val loss: 2.300631\n"
     ]
    },
    {
     "name": "stdout",
     "output_type": "stream",
     "text": [
      "(Epoch 6 / 20) train loss: 2.302054; val loss: 2.300659\n",
      "(Epoch 7 / 20) train loss: 2.302053; val loss: 2.300697\n",
      "(Epoch 8 / 20) train loss: 2.302052; val loss: 2.300472\n",
      "(Epoch 9 / 20) train loss: 2.302042; val loss: 2.300449\n",
      "(Epoch 10 / 20) train loss: 2.301984; val loss: 2.300537\n",
      "(Epoch 11 / 20) train loss: 2.302007; val loss: 2.300405\n",
      "(Epoch 12 / 20) train loss: 2.302037; val loss: 2.300342\n",
      "(Epoch 13 / 20) train loss: 2.301955; val loss: 2.300569\n",
      "(Epoch 14 / 20) train loss: 2.301997; val loss: 2.300535\n",
      "(Epoch 15 / 20) train loss: 2.301998; val loss: 2.300437\n",
      "(Epoch 16 / 20) train loss: 2.302009; val loss: 2.300540\n",
      "(Epoch 17 / 20) train loss: 2.302012; val loss: 2.300376\n",
      "Stopping early at epoch 16!\n",
      "\n",
      "Evaluating Config #18 [of 40]:\n",
      " {'hidden_size': 113, 'num_layer': 4, 'learning_rate': 0.0006515989658769343, 'reg': 1.4852654331108667e-06, 'loss_func': <exercise_code.networks.loss.CrossEntropyFromLogits object at 0x000001FFE2F7DDF0>}\n",
      "(Epoch 1 / 20) train loss: 2.302484; val loss: 2.302253\n",
      "(Epoch 2 / 20) train loss: 2.269861; val loss: 2.213934\n",
      "(Epoch 3 / 20) train loss: 2.177781; val loss: 2.144548\n",
      "(Epoch 4 / 20) train loss: 2.118297; val loss: 2.104483\n",
      "(Epoch 5 / 20) train loss: 2.085341; val loss: 2.086810\n",
      "(Epoch 6 / 20) train loss: 2.063330; val loss: 2.068942\n",
      "(Epoch 7 / 20) train loss: 2.045764; val loss: 2.064908\n",
      "(Epoch 8 / 20) train loss: 2.031950; val loss: 2.060406\n",
      "(Epoch 9 / 20) train loss: 2.013191; val loss: 2.075523\n",
      "(Epoch 10 / 20) train loss: 2.006470; val loss: 2.071415\n",
      "(Epoch 11 / 20) train loss: 1.993678; val loss: 2.073721\n",
      "(Epoch 12 / 20) train loss: 1.981576; val loss: 2.081867\n",
      "(Epoch 13 / 20) train loss: 1.965396; val loss: 2.084254\n",
      "Stopping early at epoch 12!\n",
      "\n",
      "Evaluating Config #19 [of 40]:\n",
      " {'hidden_size': 130, 'num_layer': 2, 'learning_rate': 0.0006515989658769343, 'reg': 1.4852654331108667e-06, 'loss_func': <exercise_code.networks.loss.CrossEntropyFromLogits object at 0x000001FFE2F7DDF0>}\n",
      "(Epoch 1 / 20) train loss: 2.302682; val loss: 2.302621\n",
      "(Epoch 2 / 20) train loss: 2.042791; val loss: 1.943090\n",
      "(Epoch 3 / 20) train loss: 1.858409; val loss: 1.890157\n",
      "(Epoch 4 / 20) train loss: 1.776327; val loss: 1.844299\n",
      "(Epoch 5 / 20) train loss: 1.719444; val loss: 1.876202\n",
      "(Epoch 6 / 20) train loss: 1.663400; val loss: 1.836205\n",
      "(Epoch 7 / 20) train loss: 1.614040; val loss: 1.804610\n",
      "(Epoch 8 / 20) train loss: 1.566225; val loss: 1.804965\n",
      "(Epoch 9 / 20) train loss: 1.516208; val loss: 1.823781\n",
      "(Epoch 10 / 20) train loss: 1.478813; val loss: 1.855438\n",
      "(Epoch 11 / 20) train loss: 1.429824; val loss: 1.813364\n",
      "(Epoch 12 / 20) train loss: 1.377859; val loss: 1.802274\n",
      "(Epoch 13 / 20) train loss: 1.321927; val loss: 1.843528\n",
      "(Epoch 14 / 20) train loss: 1.275061; val loss: 1.860096\n",
      "(Epoch 15 / 20) train loss: 1.236519; val loss: 1.859783\n",
      "(Epoch 16 / 20) train loss: 1.207911; val loss: 1.875748\n",
      "(Epoch 17 / 20) train loss: 1.161494; val loss: 1.949165\n",
      "Stopping early at epoch 16!\n",
      "\n",
      "Evaluating Config #20 [of 40]:\n",
      " {'hidden_size': 219, 'num_layer': 3, 'learning_rate': 0.0006515989658769343, 'reg': 1.4852654331108667e-06, 'loss_func': <exercise_code.networks.loss.CrossEntropyFromLogits object at 0x000001FFE2F7DDF0>}\n",
      "(Epoch 1 / 20) train loss: 2.302684; val loss: 2.303113\n",
      "(Epoch 2 / 20) train loss: 2.203680; val loss: 2.161810\n",
      "(Epoch 3 / 20) train loss: 2.093277; val loss: 2.050953\n",
      "(Epoch 4 / 20) train loss: 1.993725; val loss: 1.995779\n",
      "(Epoch 5 / 20) train loss: 1.916288; val loss: 1.957387\n",
      "(Epoch 6 / 20) train loss: 1.831528; val loss: 1.893676\n",
      "(Epoch 7 / 20) train loss: 1.766382; val loss: 1.869594\n",
      "(Epoch 8 / 20) train loss: 1.705437; val loss: 1.829577\n",
      "(Epoch 9 / 20) train loss: 1.647053; val loss: 1.817048\n",
      "(Epoch 10 / 20) train loss: 1.598185; val loss: 1.800466\n",
      "(Epoch 11 / 20) train loss: 1.537045; val loss: 1.790748\n",
      "(Epoch 12 / 20) train loss: 1.494481; val loss: 1.838911\n",
      "(Epoch 13 / 20) train loss: 1.440341; val loss: 1.771026\n",
      "(Epoch 14 / 20) train loss: 1.403859; val loss: 1.798846\n",
      "(Epoch 15 / 20) train loss: 1.345544; val loss: 1.818431\n",
      "(Epoch 16 / 20) train loss: 1.286329; val loss: 1.827127\n",
      "(Epoch 17 / 20) train loss: 1.248365; val loss: 1.846857\n",
      "(Epoch 18 / 20) train loss: 1.220327; val loss: 1.878901\n",
      "Stopping early at epoch 17!\n",
      "\n",
      "Evaluating Config #21 [of 40]:\n",
      " {'hidden_size': 202, 'num_layer': 2, 'learning_rate': 0.0006515989658769343, 'reg': 1.4852654331108667e-06, 'loss_func': <exercise_code.networks.loss.CrossEntropyFromLogits object at 0x000001FFE2F7DDF0>}\n",
      "(Epoch 1 / 20) train loss: 2.302695; val loss: 2.302919\n",
      "(Epoch 2 / 20) train loss: 2.004404; val loss: 1.928141\n",
      "(Epoch 3 / 20) train loss: 1.835704; val loss: 1.863753\n",
      "(Epoch 4 / 20) train loss: 1.754175; val loss: 1.861403\n",
      "(Epoch 5 / 20) train loss: 1.691310; val loss: 1.838957\n",
      "(Epoch 6 / 20) train loss: 1.616475; val loss: 1.819918\n",
      "(Epoch 7 / 20) train loss: 1.572046; val loss: 1.781915\n",
      "(Epoch 8 / 20) train loss: 1.501307; val loss: 1.790998\n",
      "(Epoch 9 / 20) train loss: 1.450589; val loss: 1.820857\n",
      "(Epoch 10 / 20) train loss: 1.399571; val loss: 1.818362\n",
      "(Epoch 11 / 20) train loss: 1.348023; val loss: 1.849324\n",
      "(Epoch 12 / 20) train loss: 1.300666; val loss: 1.828475\n",
      "Stopping early at epoch 11!\n",
      "\n",
      "Evaluating Config #22 [of 40]:\n",
      " {'hidden_size': 105, 'num_layer': 6, 'learning_rate': 0.0006515989658769343, 'reg': 1.4852654331108667e-06, 'loss_func': <exercise_code.networks.loss.CrossEntropyFromLogits object at 0x000001FFE2F7DDF0>}\n",
      "(Epoch 1 / 20) train loss: 2.302431; val loss: 2.302438\n",
      "(Epoch 2 / 20) train loss: 2.304301; val loss: 2.300559\n",
      "(Epoch 3 / 20) train loss: 2.302389; val loss: 2.300704\n",
      "(Epoch 4 / 20) train loss: 2.302185; val loss: 2.300672\n",
      "(Epoch 5 / 20) train loss: 2.302020; val loss: 2.300379\n",
      "(Epoch 6 / 20) train loss: 2.302040; val loss: 2.300568\n",
      "(Epoch 7 / 20) train loss: 2.301947; val loss: 2.300230\n",
      "(Epoch 8 / 20) train loss: 2.301795; val loss: 2.299563\n",
      "(Epoch 9 / 20) train loss: 2.301408; val loss: 2.298371\n",
      "(Epoch 10 / 20) train loss: 2.299446; val loss: 2.295331\n",
      "(Epoch 11 / 20) train loss: 2.296294; val loss: 2.291502\n",
      "(Epoch 12 / 20) train loss: 2.283077; val loss: 2.263387\n",
      "(Epoch 13 / 20) train loss: 2.230702; val loss: 2.175239\n",
      "(Epoch 14 / 20) train loss: 2.133155; val loss: 2.107244\n",
      "(Epoch 15 / 20) train loss: 2.089684; val loss: 2.086685\n",
      "(Epoch 16 / 20) train loss: 2.068362; val loss: 2.094355\n",
      "(Epoch 17 / 20) train loss: 2.048805; val loss: 2.065108\n",
      "(Epoch 18 / 20) train loss: 2.031927; val loss: 2.061350\n",
      "(Epoch 19 / 20) train loss: 2.020341; val loss: 2.058450\n",
      "(Epoch 20 / 20) train loss: 2.011419; val loss: 2.054411\n",
      "\n",
      "Evaluating Config #23 [of 40]:\n",
      " {'hidden_size': 286, 'num_layer': 4, 'learning_rate': 0.0006515989658769343, 'reg': 1.4852654331108667e-06, 'loss_func': <exercise_code.networks.loss.CrossEntropyFromLogits object at 0x000001FFE2F7DDF0>}\n",
      "(Epoch 1 / 20) train loss: 2.302674; val loss: 2.302535\n",
      "(Epoch 2 / 20) train loss: 2.242504; val loss: 2.183700\n",
      "(Epoch 3 / 20) train loss: 2.156045; val loss: 2.125799\n",
      "(Epoch 4 / 20) train loss: 2.116059; val loss: 2.115084\n",
      "(Epoch 5 / 20) train loss: 2.084844; val loss: 2.076613\n",
      "(Epoch 6 / 20) train loss: 2.065121; val loss: 2.080358\n",
      "(Epoch 7 / 20) train loss: 2.047495; val loss: 2.069545\n",
      "(Epoch 8 / 20) train loss: 2.028655; val loss: 2.087830\n",
      "(Epoch 9 / 20) train loss: 2.015351; val loss: 2.072372\n",
      "(Epoch 10 / 20) train loss: 2.006115; val loss: 2.084683\n",
      "(Epoch 11 / 20) train loss: 1.988359; val loss: 2.045973\n",
      "(Epoch 12 / 20) train loss: 1.967336; val loss: 2.058537\n",
      "(Epoch 13 / 20) train loss: 1.961541; val loss: 2.088395\n",
      "(Epoch 14 / 20) train loss: 1.945105; val loss: 2.088813\n",
      "(Epoch 15 / 20) train loss: 1.931422; val loss: 2.104748\n",
      "(Epoch 16 / 20) train loss: 1.923584; val loss: 2.179330\n",
      "Stopping early at epoch 15!\n",
      "\n",
      "Evaluating Config #24 [of 40]:\n",
      " {'hidden_size': 231, 'num_layer': 5, 'learning_rate': 0.0006515989658769343, 'reg': 1.4852654331108667e-06, 'loss_func': <exercise_code.networks.loss.CrossEntropyFromLogits object at 0x000001FFE2F7DDF0>}\n",
      "(Epoch 1 / 20) train loss: 2.302563; val loss: 2.302471\n",
      "(Epoch 2 / 20) train loss: 2.302594; val loss: 2.293379\n",
      "(Epoch 3 / 20) train loss: 2.284428; val loss: 2.264271\n",
      "(Epoch 4 / 20) train loss: 2.240981; val loss: 2.197119\n",
      "(Epoch 5 / 20) train loss: 2.159449; val loss: 2.121410\n"
     ]
    },
    {
     "name": "stdout",
     "output_type": "stream",
     "text": [
      "(Epoch 6 / 20) train loss: 2.109539; val loss: 2.112128\n",
      "(Epoch 7 / 20) train loss: 2.084941; val loss: 2.085136\n",
      "(Epoch 8 / 20) train loss: 2.054523; val loss: 2.064036\n",
      "(Epoch 9 / 20) train loss: 2.037057; val loss: 2.079370\n",
      "(Epoch 10 / 20) train loss: 2.024636; val loss: 2.073534\n",
      "(Epoch 11 / 20) train loss: 2.009226; val loss: 2.049780\n",
      "(Epoch 12 / 20) train loss: 1.995744; val loss: 2.072088\n",
      "(Epoch 13 / 20) train loss: 1.974166; val loss: 2.099760\n",
      "(Epoch 14 / 20) train loss: 1.970947; val loss: 2.105978\n",
      "(Epoch 15 / 20) train loss: 1.952633; val loss: 2.104643\n",
      "(Epoch 16 / 20) train loss: 1.933596; val loss: 2.086331\n",
      "Stopping early at epoch 15!\n",
      "\n",
      "Evaluating Config #25 [of 40]:\n",
      " {'hidden_size': 452, 'num_layer': 7, 'learning_rate': 0.0006515989658769343, 'reg': 1.4852654331108667e-06, 'loss_func': <exercise_code.networks.loss.CrossEntropyFromLogits object at 0x000001FFE2F7DDF0>}\n",
      "(Epoch 1 / 20) train loss: 2.302503; val loss: 2.302350\n",
      "(Epoch 2 / 20) train loss: 2.304554; val loss: 2.301516\n",
      "(Epoch 3 / 20) train loss: 2.302353; val loss: 2.300903\n",
      "(Epoch 4 / 20) train loss: 2.302158; val loss: 2.300926\n",
      "(Epoch 5 / 20) train loss: 2.302086; val loss: 2.300892\n",
      "(Epoch 6 / 20) train loss: 2.302079; val loss: 2.300672\n",
      "(Epoch 7 / 20) train loss: 2.302058; val loss: 2.300507\n",
      "(Epoch 8 / 20) train loss: 2.301990; val loss: 2.300719\n",
      "(Epoch 9 / 20) train loss: 2.302061; val loss: 2.300641\n",
      "(Epoch 10 / 20) train loss: 2.302056; val loss: 2.300618\n",
      "(Epoch 11 / 20) train loss: 2.302037; val loss: 2.300668\n",
      "(Epoch 12 / 20) train loss: 2.301998; val loss: 2.300805\n",
      "Stopping early at epoch 11!\n",
      "\n",
      "Evaluating Config #26 [of 40]:\n",
      " {'hidden_size': 111, 'num_layer': 6, 'learning_rate': 0.0006515989658769343, 'reg': 1.4852654331108667e-06, 'loss_func': <exercise_code.networks.loss.CrossEntropyFromLogits object at 0x000001FFE2F7DDF0>}\n",
      "(Epoch 1 / 20) train loss: 2.302521; val loss: 2.302560\n",
      "(Epoch 2 / 20) train loss: 2.303191; val loss: 2.302662\n",
      "(Epoch 3 / 20) train loss: 2.302462; val loss: 2.301225\n",
      "(Epoch 4 / 20) train loss: 2.302279; val loss: 2.300970\n",
      "(Epoch 5 / 20) train loss: 2.302150; val loss: 2.301064\n",
      "(Epoch 6 / 20) train loss: 2.302066; val loss: 2.300790\n",
      "(Epoch 7 / 20) train loss: 2.302021; val loss: 2.301034\n",
      "(Epoch 8 / 20) train loss: 2.301958; val loss: 2.300969\n",
      "(Epoch 9 / 20) train loss: 2.301916; val loss: 2.300578\n",
      "(Epoch 10 / 20) train loss: 2.301675; val loss: 2.299861\n",
      "(Epoch 11 / 20) train loss: 2.300463; val loss: 2.299666\n",
      "(Epoch 12 / 20) train loss: 2.297968; val loss: 2.293151\n",
      "(Epoch 13 / 20) train loss: 2.291368; val loss: 2.282770\n",
      "(Epoch 14 / 20) train loss: 2.264825; val loss: 2.233045\n",
      "(Epoch 15 / 20) train loss: 2.165323; val loss: 2.114412\n",
      "(Epoch 16 / 20) train loss: 2.105295; val loss: 2.106485\n",
      "(Epoch 17 / 20) train loss: 2.076775; val loss: 2.071840\n",
      "(Epoch 18 / 20) train loss: 2.059981; val loss: 2.071365\n",
      "(Epoch 19 / 20) train loss: 2.045673; val loss: 2.068225\n",
      "(Epoch 20 / 20) train loss: 2.031265; val loss: 2.055276\n",
      "\n",
      "Evaluating Config #27 [of 40]:\n",
      " {'hidden_size': 252, 'num_layer': 3, 'learning_rate': 0.0006515989658769343, 'reg': 1.4852654331108667e-06, 'loss_func': <exercise_code.networks.loss.CrossEntropyFromLogits object at 0x000001FFE2F7DDF0>}\n",
      "(Epoch 1 / 20) train loss: 2.302643; val loss: 2.302035\n",
      "(Epoch 2 / 20) train loss: 2.193003; val loss: 2.141203\n",
      "(Epoch 3 / 20) train loss: 2.076427; val loss: 2.040841\n",
      "(Epoch 4 / 20) train loss: 1.972215; val loss: 2.016266\n",
      "(Epoch 5 / 20) train loss: 1.895237; val loss: 1.938825\n",
      "(Epoch 6 / 20) train loss: 1.814586; val loss: 1.890382\n",
      "(Epoch 7 / 20) train loss: 1.741886; val loss: 1.835928\n",
      "(Epoch 8 / 20) train loss: 1.675918; val loss: 1.832057\n",
      "(Epoch 9 / 20) train loss: 1.611769; val loss: 1.846084\n",
      "(Epoch 10 / 20) train loss: 1.558269; val loss: 1.803351\n",
      "(Epoch 11 / 20) train loss: 1.513922; val loss: 1.824139\n",
      "(Epoch 12 / 20) train loss: 1.448686; val loss: 1.801819\n",
      "(Epoch 13 / 20) train loss: 1.382134; val loss: 1.870710\n",
      "(Epoch 14 / 20) train loss: 1.330949; val loss: 1.861738\n",
      "(Epoch 15 / 20) train loss: 1.299976; val loss: 1.887172\n",
      "(Epoch 16 / 20) train loss: 1.226752; val loss: 1.882686\n",
      "(Epoch 17 / 20) train loss: 1.187027; val loss: 1.879943\n",
      "Stopping early at epoch 16!\n",
      "\n",
      "Evaluating Config #28 [of 40]:\n",
      " {'hidden_size': 468, 'num_layer': 6, 'learning_rate': 0.0006515989658769343, 'reg': 1.4852654331108667e-06, 'loss_func': <exercise_code.networks.loss.CrossEntropyFromLogits object at 0x000001FFE2F7DDF0>}\n",
      "(Epoch 1 / 20) train loss: 2.302735; val loss: 2.302425\n",
      "(Epoch 2 / 20) train loss: 2.304325; val loss: 2.300696\n",
      "(Epoch 3 / 20) train loss: 2.302321; val loss: 2.300615\n",
      "(Epoch 4 / 20) train loss: 2.302114; val loss: 2.300605\n",
      "(Epoch 5 / 20) train loss: 2.302076; val loss: 2.300727\n",
      "(Epoch 6 / 20) train loss: 2.302043; val loss: 2.300809\n",
      "(Epoch 7 / 20) train loss: 2.302054; val loss: 2.300466\n",
      "(Epoch 8 / 20) train loss: 2.302005; val loss: 2.300615\n",
      "(Epoch 9 / 20) train loss: 2.301974; val loss: 2.300811\n",
      "(Epoch 10 / 20) train loss: 2.301999; val loss: 2.300724\n",
      "(Epoch 11 / 20) train loss: 2.302009; val loss: 2.300954\n",
      "(Epoch 12 / 20) train loss: 2.302027; val loss: 2.300683\n",
      "Stopping early at epoch 11!\n",
      "\n",
      "Evaluating Config #29 [of 40]:\n",
      " {'hidden_size': 369, 'num_layer': 6, 'learning_rate': 0.0006515989658769343, 'reg': 1.4852654331108667e-06, 'loss_func': <exercise_code.networks.loss.CrossEntropyFromLogits object at 0x000001FFE2F7DDF0>}\n",
      "(Epoch 1 / 20) train loss: 2.302667; val loss: 2.302216\n",
      "(Epoch 2 / 20) train loss: 2.304768; val loss: 2.301584\n",
      "(Epoch 3 / 20) train loss: 2.302308; val loss: 2.301272\n",
      "(Epoch 4 / 20) train loss: 2.302217; val loss: 2.300686\n",
      "(Epoch 5 / 20) train loss: 2.302093; val loss: 2.300620\n",
      "(Epoch 6 / 20) train loss: 2.302013; val loss: 2.300597\n",
      "(Epoch 7 / 20) train loss: 2.302066; val loss: 2.300540\n",
      "(Epoch 8 / 20) train loss: 2.302045; val loss: 2.300727\n",
      "(Epoch 9 / 20) train loss: 2.302014; val loss: 2.300454\n",
      "(Epoch 10 / 20) train loss: 2.302002; val loss: 2.300374\n",
      "(Epoch 11 / 20) train loss: 2.302029; val loss: 2.300418\n",
      "(Epoch 12 / 20) train loss: 2.302032; val loss: 2.300781\n",
      "(Epoch 13 / 20) train loss: 2.301994; val loss: 2.300623\n",
      "(Epoch 14 / 20) train loss: 2.301996; val loss: 2.300447\n",
      "(Epoch 15 / 20) train loss: 2.302016; val loss: 2.300325\n",
      "(Epoch 16 / 20) train loss: 2.301967; val loss: 2.300417\n",
      "(Epoch 17 / 20) train loss: 2.301893; val loss: 2.300267\n",
      "(Epoch 18 / 20) train loss: 2.301273; val loss: 2.300325\n",
      "(Epoch 19 / 20) train loss: 2.301049; val loss: 2.298471\n",
      "(Epoch 20 / 20) train loss: 2.300594; val loss: 2.297028\n",
      "\n",
      "Evaluating Config #30 [of 40]:\n",
      " {'hidden_size': 131, 'num_layer': 6, 'learning_rate': 0.0006515989658769343, 'reg': 1.4852654331108667e-06, 'loss_func': <exercise_code.networks.loss.CrossEntropyFromLogits object at 0x000001FFE2F7DDF0>}\n",
      "(Epoch 1 / 20) train loss: 2.302640; val loss: 2.302590\n",
      "(Epoch 2 / 20) train loss: 2.304877; val loss: 2.301027\n",
      "(Epoch 3 / 20) train loss: 2.302254; val loss: 2.299852\n",
      "(Epoch 4 / 20) train loss: 2.302288; val loss: 2.300881\n",
      "(Epoch 5 / 20) train loss: 2.302022; val loss: 2.300778\n",
      "(Epoch 6 / 20) train loss: 2.301979; val loss: 2.301002\n",
      "(Epoch 7 / 20) train loss: 2.302026; val loss: 2.300819\n",
      "(Epoch 8 / 20) train loss: 2.302010; val loss: 2.300633\n",
      "Stopping early at epoch 7!\n",
      "\n",
      "Evaluating Config #31 [of 40]:\n",
      " {'hidden_size': 154, 'num_layer': 4, 'learning_rate': 0.0006515989658769343, 'reg': 1.4852654331108667e-06, 'loss_func': <exercise_code.networks.loss.CrossEntropyFromLogits object at 0x000001FFE2F7DDF0>}\n",
      "(Epoch 1 / 20) train loss: 2.302572; val loss: 2.302370\n",
      "(Epoch 2 / 20) train loss: 2.259313; val loss: 2.208151\n",
      "(Epoch 3 / 20) train loss: 2.165862; val loss: 2.135596\n",
      "(Epoch 4 / 20) train loss: 2.111690; val loss: 2.098389\n",
      "(Epoch 5 / 20) train loss: 2.081444; val loss: 2.108567\n",
      "(Epoch 6 / 20) train loss: 2.063879; val loss: 2.072973\n",
      "(Epoch 7 / 20) train loss: 2.045990; val loss: 2.075974\n",
      "(Epoch 8 / 20) train loss: 2.025585; val loss: 2.081457\n",
      "(Epoch 9 / 20) train loss: 2.014154; val loss: 2.076916\n",
      "(Epoch 10 / 20) train loss: 2.002537; val loss: 2.110714\n",
      "(Epoch 11 / 20) train loss: 1.986598; val loss: 2.077582\n",
      "Stopping early at epoch 10!\n",
      "\n",
      "Evaluating Config #32 [of 40]:\n",
      " {'hidden_size': 126, 'num_layer': 8, 'learning_rate': 0.0006515989658769343, 'reg': 1.4852654331108667e-06, 'loss_func': <exercise_code.networks.loss.CrossEntropyFromLogits object at 0x000001FFE2F7DDF0>}\n"
     ]
    },
    {
     "name": "stdout",
     "output_type": "stream",
     "text": [
      "(Epoch 1 / 20) train loss: 2.302504; val loss: 2.302451\n",
      "(Epoch 2 / 20) train loss: 2.304366; val loss: 2.300704\n",
      "(Epoch 3 / 20) train loss: 2.302427; val loss: 2.300785\n",
      "(Epoch 4 / 20) train loss: 2.302163; val loss: 2.300582\n",
      "(Epoch 5 / 20) train loss: 2.302034; val loss: 2.300699\n",
      "(Epoch 6 / 20) train loss: 2.302053; val loss: 2.300685\n",
      "(Epoch 7 / 20) train loss: 2.302013; val loss: 2.300833\n",
      "(Epoch 8 / 20) train loss: 2.302013; val loss: 2.300686\n",
      "(Epoch 9 / 20) train loss: 2.302035; val loss: 2.300558\n",
      "(Epoch 10 / 20) train loss: 2.301974; val loss: 2.300428\n",
      "(Epoch 11 / 20) train loss: 2.302025; val loss: 2.300436\n",
      "(Epoch 12 / 20) train loss: 2.302005; val loss: 2.300419\n",
      "(Epoch 13 / 20) train loss: 2.302010; val loss: 2.300356\n",
      "(Epoch 14 / 20) train loss: 2.302001; val loss: 2.300318\n",
      "(Epoch 15 / 20) train loss: 2.302013; val loss: 2.300378\n",
      "(Epoch 16 / 20) train loss: 2.301957; val loss: 2.300606\n",
      "(Epoch 17 / 20) train loss: 2.301977; val loss: 2.300708\n",
      "(Epoch 18 / 20) train loss: 2.301984; val loss: 2.300758\n",
      "(Epoch 19 / 20) train loss: 2.301987; val loss: 2.300570\n",
      "Stopping early at epoch 18!\n",
      "\n",
      "Evaluating Config #33 [of 40]:\n",
      " {'hidden_size': 391, 'num_layer': 6, 'learning_rate': 0.0006515989658769343, 'reg': 1.4852654331108667e-06, 'loss_func': <exercise_code.networks.loss.CrossEntropyFromLogits object at 0x000001FFE2F7DDF0>}\n",
      "(Epoch 1 / 20) train loss: 2.302689; val loss: 2.302906\n",
      "(Epoch 2 / 20) train loss: 2.304405; val loss: 2.301584\n",
      "(Epoch 3 / 20) train loss: 2.302264; val loss: 2.301197\n",
      "(Epoch 4 / 20) train loss: 2.302193; val loss: 2.301039\n",
      "(Epoch 5 / 20) train loss: 2.302143; val loss: 2.300722\n",
      "(Epoch 6 / 20) train loss: 2.302050; val loss: 2.300754\n",
      "(Epoch 7 / 20) train loss: 2.302030; val loss: 2.300693\n",
      "(Epoch 8 / 20) train loss: 2.302014; val loss: 2.300525\n",
      "(Epoch 9 / 20) train loss: 2.302050; val loss: 2.300466\n",
      "(Epoch 10 / 20) train loss: 2.302010; val loss: 2.300686\n",
      "(Epoch 11 / 20) train loss: 2.302001; val loss: 2.300789\n",
      "(Epoch 12 / 20) train loss: 2.301978; val loss: 2.300657\n",
      "(Epoch 13 / 20) train loss: 2.302015; val loss: 2.300756\n",
      "(Epoch 14 / 20) train loss: 2.301994; val loss: 2.300616\n",
      "Stopping early at epoch 13!\n",
      "\n",
      "Evaluating Config #34 [of 40]:\n",
      " {'hidden_size': 346, 'num_layer': 2, 'learning_rate': 0.0006515989658769343, 'reg': 1.4852654331108667e-06, 'loss_func': <exercise_code.networks.loss.CrossEntropyFromLogits object at 0x000001FFE2F7DDF0>}\n",
      "(Epoch 1 / 20) train loss: 2.302697; val loss: 2.302906\n",
      "(Epoch 2 / 20) train loss: 1.992669; val loss: 1.912028\n",
      "(Epoch 3 / 20) train loss: 1.832697; val loss: 1.872557\n",
      "(Epoch 4 / 20) train loss: 1.737995; val loss: 1.876384\n",
      "(Epoch 5 / 20) train loss: 1.658587; val loss: 1.883361\n",
      "(Epoch 6 / 20) train loss: 1.586340; val loss: 1.829859\n",
      "(Epoch 7 / 20) train loss: 1.510607; val loss: 1.852481\n",
      "(Epoch 8 / 20) train loss: 1.435073; val loss: 1.861668\n",
      "(Epoch 9 / 20) train loss: 1.368587; val loss: 1.856659\n",
      "(Epoch 10 / 20) train loss: 1.288304; val loss: 1.869144\n",
      "(Epoch 11 / 20) train loss: 1.226924; val loss: 1.872389\n",
      "Stopping early at epoch 10!\n",
      "\n",
      "Evaluating Config #35 [of 40]:\n",
      " {'hidden_size': 318, 'num_layer': 2, 'learning_rate': 0.0006515989658769343, 'reg': 1.4852654331108667e-06, 'loss_func': <exercise_code.networks.loss.CrossEntropyFromLogits object at 0x000001FFE2F7DDF0>}\n",
      "(Epoch 1 / 20) train loss: 2.302596; val loss: 2.302621\n",
      "(Epoch 2 / 20) train loss: 1.990586; val loss: 1.946317\n",
      "(Epoch 3 / 20) train loss: 1.830804; val loss: 1.898275\n",
      "(Epoch 4 / 20) train loss: 1.743504; val loss: 1.836359\n",
      "(Epoch 5 / 20) train loss: 1.669049; val loss: 1.844858\n",
      "(Epoch 6 / 20) train loss: 1.592116; val loss: 1.817836\n",
      "(Epoch 7 / 20) train loss: 1.518119; val loss: 1.876974\n",
      "(Epoch 8 / 20) train loss: 1.447376; val loss: 1.848965\n",
      "(Epoch 9 / 20) train loss: 1.378817; val loss: 1.872023\n",
      "(Epoch 10 / 20) train loss: 1.317038; val loss: 1.853738\n",
      "(Epoch 11 / 20) train loss: 1.250828; val loss: 1.897998\n",
      "Stopping early at epoch 10!\n",
      "\n",
      "Evaluating Config #36 [of 40]:\n",
      " {'hidden_size': 186, 'num_layer': 7, 'learning_rate': 0.0006515989658769343, 'reg': 1.4852654331108667e-06, 'loss_func': <exercise_code.networks.loss.CrossEntropyFromLogits object at 0x000001FFE2F7DDF0>}\n",
      "(Epoch 1 / 20) train loss: 2.302742; val loss: 2.302155\n",
      "(Epoch 2 / 20) train loss: 2.304560; val loss: 2.301686\n",
      "(Epoch 3 / 20) train loss: 2.302336; val loss: 2.300880\n",
      "(Epoch 4 / 20) train loss: 2.302142; val loss: 2.300751\n",
      "(Epoch 5 / 20) train loss: 2.302071; val loss: 2.300571\n",
      "(Epoch 6 / 20) train loss: 2.302052; val loss: 2.300645\n",
      "(Epoch 7 / 20) train loss: 2.302027; val loss: 2.300736\n",
      "(Epoch 8 / 20) train loss: 2.302028; val loss: 2.300597\n",
      "(Epoch 9 / 20) train loss: 2.302010; val loss: 2.300572\n",
      "(Epoch 10 / 20) train loss: 2.301998; val loss: 2.300499\n",
      "(Epoch 11 / 20) train loss: 2.301967; val loss: 2.300477\n",
      "(Epoch 12 / 20) train loss: 2.301984; val loss: 2.300704\n",
      "(Epoch 13 / 20) train loss: 2.301992; val loss: 2.300715\n",
      "(Epoch 14 / 20) train loss: 2.301984; val loss: 2.300524\n",
      "(Epoch 15 / 20) train loss: 2.302010; val loss: 2.300516\n",
      "(Epoch 16 / 20) train loss: 2.301991; val loss: 2.300600\n",
      "Stopping early at epoch 15!\n",
      "\n",
      "Evaluating Config #37 [of 40]:\n",
      " {'hidden_size': 338, 'num_layer': 7, 'learning_rate': 0.0006515989658769343, 'reg': 1.4852654331108667e-06, 'loss_func': <exercise_code.networks.loss.CrossEntropyFromLogits object at 0x000001FFE2F7DDF0>}\n",
      "(Epoch 1 / 20) train loss: 2.302602; val loss: 2.302695\n",
      "(Epoch 2 / 20) train loss: 2.304768; val loss: 2.301058\n",
      "(Epoch 3 / 20) train loss: 2.302327; val loss: 2.300999\n",
      "(Epoch 4 / 20) train loss: 2.302167; val loss: 2.300904\n",
      "(Epoch 5 / 20) train loss: 2.302050; val loss: 2.300811\n",
      "(Epoch 6 / 20) train loss: 2.302012; val loss: 2.300463\n",
      "(Epoch 7 / 20) train loss: 2.301971; val loss: 2.300800\n",
      "(Epoch 8 / 20) train loss: 2.302010; val loss: 2.300672\n",
      "(Epoch 9 / 20) train loss: 2.302040; val loss: 2.300757\n",
      "(Epoch 10 / 20) train loss: 2.302016; val loss: 2.300517\n",
      "(Epoch 11 / 20) train loss: 2.302044; val loss: 2.300640\n",
      "Stopping early at epoch 10!\n",
      "\n",
      "Evaluating Config #38 [of 40]:\n",
      " {'hidden_size': 410, 'num_layer': 6, 'learning_rate': 0.0006515989658769343, 'reg': 1.4852654331108667e-06, 'loss_func': <exercise_code.networks.loss.CrossEntropyFromLogits object at 0x000001FFE2F7DDF0>}\n",
      "(Epoch 1 / 20) train loss: 2.302593; val loss: 2.302800\n",
      "(Epoch 2 / 20) train loss: 2.304984; val loss: 2.301322\n",
      "(Epoch 3 / 20) train loss: 2.302379; val loss: 2.301060\n",
      "(Epoch 4 / 20) train loss: 2.302172; val loss: 2.300808\n",
      "(Epoch 5 / 20) train loss: 2.302097; val loss: 2.300631\n",
      "(Epoch 6 / 20) train loss: 2.302049; val loss: 2.300870\n",
      "(Epoch 7 / 20) train loss: 2.302021; val loss: 2.300713\n",
      "(Epoch 8 / 20) train loss: 2.302064; val loss: 2.300569\n",
      "(Epoch 9 / 20) train loss: 2.302004; val loss: 2.300605\n",
      "(Epoch 10 / 20) train loss: 2.302016; val loss: 2.300843\n",
      "(Epoch 11 / 20) train loss: 2.302003; val loss: 2.300487\n",
      "(Epoch 12 / 20) train loss: 2.302016; val loss: 2.300589\n",
      "(Epoch 13 / 20) train loss: 2.301980; val loss: 2.300526\n",
      "(Epoch 14 / 20) train loss: 2.301880; val loss: 2.300271\n",
      "(Epoch 15 / 20) train loss: 2.301581; val loss: 2.299584\n",
      "(Epoch 16 / 20) train loss: 2.301244; val loss: 2.298098\n",
      "(Epoch 17 / 20) train loss: 2.300297; val loss: 2.295930\n",
      "(Epoch 18 / 20) train loss: 2.298609; val loss: 2.299427\n",
      "(Epoch 19 / 20) train loss: 2.297583; val loss: 2.289732\n",
      "(Epoch 20 / 20) train loss: 2.293822; val loss: 2.297623\n",
      "\n",
      "Evaluating Config #39 [of 40]:\n",
      " {'hidden_size': 264, 'num_layer': 5, 'learning_rate': 0.0006515989658769343, 'reg': 1.4852654331108667e-06, 'loss_func': <exercise_code.networks.loss.CrossEntropyFromLogits object at 0x000001FFE2F7DDF0>}\n",
      "(Epoch 1 / 20) train loss: 2.302466; val loss: 2.302096\n",
      "(Epoch 2 / 20) train loss: 2.303779; val loss: 2.296454\n",
      "(Epoch 3 / 20) train loss: 2.293533; val loss: 2.284388\n",
      "(Epoch 4 / 20) train loss: 2.270514; val loss: 2.241382\n",
      "(Epoch 5 / 20) train loss: 2.218776; val loss: 2.195030\n",
      "(Epoch 6 / 20) train loss: 2.169666; val loss: 2.149008\n",
      "(Epoch 7 / 20) train loss: 2.140884; val loss: 2.129338\n",
      "(Epoch 8 / 20) train loss: 2.115138; val loss: 2.117683\n",
      "(Epoch 9 / 20) train loss: 2.094797; val loss: 2.114012\n",
      "(Epoch 10 / 20) train loss: 2.075935; val loss: 2.101388\n",
      "(Epoch 11 / 20) train loss: 2.062068; val loss: 2.089142\n"
     ]
    },
    {
     "name": "stdout",
     "output_type": "stream",
     "text": [
      "(Epoch 12 / 20) train loss: 2.035846; val loss: 2.094626\n",
      "(Epoch 13 / 20) train loss: 2.017443; val loss: 2.106405\n",
      "(Epoch 14 / 20) train loss: 1.995373; val loss: 2.089352\n",
      "(Epoch 15 / 20) train loss: 1.967783; val loss: 2.193736\n",
      "(Epoch 16 / 20) train loss: 1.949614; val loss: 2.119835\n",
      "Stopping early at epoch 15!\n",
      "\n",
      "Evaluating Config #40 [of 40]:\n",
      " {'hidden_size': 472, 'num_layer': 7, 'learning_rate': 0.0006515989658769343, 'reg': 1.4852654331108667e-06, 'loss_func': <exercise_code.networks.loss.CrossEntropyFromLogits object at 0x000001FFE2F7DDF0>}\n",
      "(Epoch 1 / 20) train loss: 2.302765; val loss: 2.302541\n",
      "(Epoch 2 / 20) train loss: 2.304677; val loss: 2.301733\n",
      "(Epoch 3 / 20) train loss: 2.302342; val loss: 2.301498\n",
      "(Epoch 4 / 20) train loss: 2.302181; val loss: 2.300968\n",
      "(Epoch 5 / 20) train loss: 2.302078; val loss: 2.300492\n",
      "(Epoch 6 / 20) train loss: 2.302055; val loss: 2.300872\n",
      "(Epoch 7 / 20) train loss: 2.302058; val loss: 2.300734\n",
      "(Epoch 8 / 20) train loss: 2.302029; val loss: 2.300812\n",
      "(Epoch 9 / 20) train loss: 2.302067; val loss: 2.300758\n",
      "(Epoch 10 / 20) train loss: 2.302024; val loss: 2.300550\n",
      "Stopping early at epoch 9!\n",
      "\n",
      "Search done. Best Val Loss = 1.7710258274282495\n",
      "Best Config: {'hidden_size': 219, 'num_layer': 3, 'learning_rate': 0.0006515989658769343, 'reg': 1.4852654331108667e-06, 'loss_func': <exercise_code.networks.loss.CrossEntropyFromLogits object at 0x000001FFE2F7DDF0>}\n"
     ]
    }
   ],
   "source": [
    "best_learning_rate = best_result['learning_rate']\n",
    "best_loss_func = best_result['loss_func']\n",
    "best_reg = best_result['reg']\n",
    "best_model, results, best_config = random_search(\n",
    "    dataloaders['train_medium'], dataloaders['val_2000files'],\n",
    "    random_search_spaces = {\n",
    "        \"hidden_size\": ([100, 500], \"int\"),\n",
    "        \"num_layer\": ([2, 8], \"int\"),\n",
    "        \"learning_rate\": ([best_learning_rate], 'log'),\n",
    "        \"reg\": ([best_reg], \"log\"),\n",
    "        \"loss_func\": ([CrossEntropyFromLogits()], \"item\")\n",
    "    },\n",
    "    model_class=model_class,\n",
    "    num_search = 40, epochs=20, patience=5)"
   ]
  },
  {
   "cell_type": "markdown",
   "metadata": {},
   "source": [
    "## Final Training"
   ]
  },
  {
   "cell_type": "code",
   "execution_count": null,
   "metadata": {
    "scrolled": true
   },
   "outputs": [
    {
     "name": "stdout",
     "output_type": "stream",
     "text": [
      "\n",
      "Evaluating Config #1 [of 1]:\n",
      " {'learning_rate': 0.0006515989658769343, 'reg': 1.4852654331108667e-06, 'hidden_size': 219, 'num_layer': 3, 'loss_func': <exercise_code.networks.loss.CrossEntropyFromLogits object at 0x000001A9FD956760>}\n",
      "(Epoch 1 / 100) train loss: 2.302628; val loss: 2.302695\n"
     ]
    }
   ],
   "source": [
    "best_config = {'hidden_size': 219, \n",
    "               'num_layer': 3, \n",
    "               'learning_rate': 0.0006515989658769343, \n",
    "               'reg': 1.4852654331108667e-06, \n",
    "               'loss_func': CrossEntropyFromLogits()}\n",
    "best_model, results, _ = hyperparameter_tuning.grid_search(\n",
    "    dataloaders['train'], dataloaders['val_2000files'],\n",
    "    grid_search_spaces = {\n",
    "        \"learning_rate\": [best_config['learning_rate']], \n",
    "        \"reg\": [best_config['reg']],\n",
    "        \"hidden_size\":[best_config['hidden_size']],\n",
    "        \"num_layer\":[best_config['num_layer']],\n",
    "        \"loss_func\":[best_config['loss_func']]\n",
    "    },\n",
    "    model_class=model_class,\n",
    "    epochs=100, patience=5)"
   ]
  },
  {
   "cell_type": "markdown",
   "metadata": {
    "id": "gmZbWaaIN5er"
   },
   "source": [
    "Now it's time to edit the ranges above and adjust them to explore regions that performed well!\n",
    "\n",
    "Also, feel free to experiment around. Other hyperparameters you can change are the network architecture, optimizer, activations functions and many more.\n",
    "\n",
    "Try to get an accuracy as high as possible, since that's all what counts for this submission!\n",
    "\n",
    "You'll pass if you reach at least **48%** accuracy on our test set - but there will also be a leaderboard of all students of this course. Can you make it to the top?"
   ]
  },
  {
   "cell_type": "markdown",
   "metadata": {
    "id": "mJZ7UXHeN5er"
   },
   "source": [
    "## 3.5 Checking the validation accuracy"
   ]
  },
  {
   "cell_type": "code",
   "execution_count": null,
   "metadata": {
    "colab": {
     "background_save": true
    },
    "id": "qPyHczNJN5er",
    "outputId": "7cbc0fbb-2d6e-49a1-d518-83e2260ea339"
   },
   "outputs": [],
   "source": [
    "labels, pred, acc = best_model.get_dataset_prediction(dataloaders['train'])\n",
    "print(\"Train Accuracy: {}%\".format(acc*100))\n",
    "labels, pred, acc = best_model.get_dataset_prediction(dataloaders['val'])\n",
    "print(\"Validation Accuracy: {}%\".format(acc*100))"
   ]
  },
  {
   "cell_type": "markdown",
   "metadata": {
    "id": "MQ_AGtp8N5er"
   },
   "source": [
    "# 4. Test your model\n",
    "When you have finished the hyperparameter tuning and you found your final model which performs well on the validation set (**you should at least get 48% accuracy on the validation set!**), it's time to run your model on the test set.\n",
    "\n",
    "<div class=\"alert alert-danger\">\n",
    "    <h3>Important</h3>\n",
    "    <p>As you have learned in the lecture, you must only use the test set once! So only run the next cell if you are completely sure that your model works well enough and that you are ready to submit. Your test set is different from the test set on our server, so results may vary a bit. Nevertheless, you will get a reasonable approximation of your model's performance if you perform the final evaluation on the test set only once.</p>\n",
    "    <p>If you are an external student that can't use our submission webpage: this test performance is your final result and if you surpassed the threshold, you have completed this exercise :). Now, train again to aim for a better number!</p>\n",
    "</div>"
   ]
  },
  {
   "cell_type": "code",
   "execution_count": null,
   "metadata": {
    "colab": {
     "background_save": true
    },
    "id": "xJ2lwiVUN5er",
    "outputId": "82f45e2a-7357-4444-d8c7-2296b7f6cb68"
   },
   "outputs": [],
   "source": [
    "# comment this part out to see your model's performance on the test set.\n",
    "labels, pred, acc = best_model.get_dataset_prediction(dataloaders['test'])\n",
    "print(\"Test Accuracy: {}%\".format(acc*100))\n"
   ]
  },
  {
   "cell_type": "markdown",
   "metadata": {
    "id": "K3MBnG7qN5er"
   },
   "source": [
    "<div class=\"alert alert-warning\">\n",
    "    <h3>Note:</h3>\n",
    "    <p>The \"real\" test set is actually the dataset we're using for testing your model, which is <b>different</b> from the test-set you're using here.</p>\n",
    "</div>"
   ]
  },
  {
   "cell_type": "markdown",
   "metadata": {
    "id": "2lOy_GulN5es"
   },
   "source": [
    "# 5. Saving your Model"
   ]
  },
  {
   "cell_type": "code",
   "execution_count": null,
   "metadata": {
    "colab": {
     "background_save": true
    },
    "id": "icgNMAlEN5es"
   },
   "outputs": [],
   "source": [
    "from exercise_code.tests import save_pickle\n",
    "save_pickle({\"cifar_fcn\": best_model}, \"cifar_fcn.p\")"
   ]
  },
  {
   "cell_type": "code",
   "execution_count": null,
   "metadata": {
    "colab": {
     "background_save": true
    },
    "id": "Gd4TchGlN5es",
    "outputId": "b913c1bd-b861-47bb-c257-b30fa214e761"
   },
   "outputs": [],
   "source": [
    "from exercise_code.submit import submit_exercise\n",
    "\n",
    "submit_exercise('../output/exercise06')"
   ]
  },
  {
   "cell_type": "markdown",
   "metadata": {
    "id": "q5C_bKa5N5es"
   },
   "source": [
    "# 6. Submission Instructions\n",
    "\n",
    "Congratulations! You've just built your first image classifier! To complete the exercise, submit your final model to our submission portal - you probably know the procedure by now.\n",
    "\n",
    "1. Go on [our submission page](https://i2dl.dvl.in.tum.de/), register for an account and login. We use your matriculation number and send you an email with the login details to the associated mail account. When in doubt, login into tum-online and check your mails there. You will get an id which we'll need in the next step.\n",
    "2. Log into [our submission page](https://i2dl.dvl.in.tum.de/), with your account details and upload the zip file.\n",
    "3. Your submission will be evaluated by our system and you will get feedback about the performance of it. You will get an email with your score, as well as a message if you have surpassed the threshold or not.\n",
    "4. Within the working period, you can submit as many solutions as you want to get the best possible score.\n",
    "\n",
    "\n",
    "# 7. Submission Goals\n",
    "\n",
    "- Goal: Successfully implement a fully connected NN image classifier and tune the hyperparameters.\n",
    "\n",
    "- Passing Criteria: This time, there are no unit tests checking specific components of your code. To  pass the submission your model needs to reach at least **48% accuracy** on __our__ test dataset. The submission system will show you a number between 0 and 100 which corresponds to your accuracy.\n",
    "\n",
    "- Submission start: __June 14, 2022 16:00__\n",
    "- Submission deadline : __June 20, 2022 23:59__ \n",
    "- You can make **$\\infty$** submissions until the deadline. Your __best submission__ will be considered for the bonus."
   ]
  },
  {
   "cell_type": "markdown",
   "metadata": {},
   "source": [
    "# [Exercise Review](https://docs.google.com/forms/d/e/1FAIpQLScwZArz6ogLqBEj--ItB6unKcv0u9gWLj8bspeiATrDnFH9hA/viewform)\n",
    "We are always interested in your opinion. Now that you have finished this exercise, we would like you to give us some feedback about the time required to finish the submission and/or work through the notebooks. Please take the short time to fill out our [review form](https://docs.google.com/forms/d/e/1FAIpQLScwZArz6ogLqBEj--ItB6unKcv0u9gWLj8bspeiATrDnFH9hA/viewform) for this exercise so that we can do better next time! :)"
   ]
  }
 ],
 "metadata": {
  "colab": {
   "collapsed_sections": [
    "WKNRU4BWN5eg",
    "3MhxqP2LN5ej",
    "dbFSP4z9N5ek",
    "0TE2PxMBN5ek",
    "QUFotyERN5ek",
    "l0pZa4weN5eo",
    "rDyeiAN1N5ep",
    "DCaACnn3N5eq",
    "P8wWTovfN5eq",
    "mJZ7UXHeN5er"
   ],
   "name": "1.cifar10_classification.ipynb",
   "provenance": []
  },
  "kernelspec": {
   "display_name": "Python [conda env:id2dl]",
   "language": "python",
   "name": "conda-env-id2dl-py"
  },
  "language_info": {
   "codemirror_mode": {
    "name": "ipython",
    "version": 3
   },
   "file_extension": ".py",
   "mimetype": "text/x-python",
   "name": "python",
   "nbconvert_exporter": "python",
   "pygments_lexer": "ipython3",
   "version": "3.8.13"
  }
 },
 "nbformat": 4,
 "nbformat_minor": 1
}
